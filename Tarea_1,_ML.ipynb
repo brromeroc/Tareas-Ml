{
  "nbformat": 4,
  "nbformat_minor": 0,
  "metadata": {
    "colab": {
      "provenance": [],
      "authorship_tag": "ABX9TyNqDbIyECbVgEcQBryMkwCO",
      "include_colab_link": true
    },
    "kernelspec": {
      "name": "python3",
      "display_name": "Python 3"
    },
    "language_info": {
      "name": "python"
    }
  },
  "cells": [
    {
      "cell_type": "markdown",
      "metadata": {
        "id": "view-in-github",
        "colab_type": "text"
      },
      "source": [
        "<a href=\"https://colab.research.google.com/github/brromeroc/Tareas-Ml/blob/main/Tarea_1%2C_ML.ipynb\" target=\"_parent\"><img src=\"https://colab.research.google.com/assets/colab-badge.svg\" alt=\"Open In Colab\"/></a>"
      ]
    },
    {
      "cell_type": "markdown",
      "source": [
        "#**Solución Tarea 1**"
      ],
      "metadata": {
        "id": "ZniDsU8x2nZa"
      }
    },
    {
      "cell_type": "markdown",
      "source": [
        "### **1)** Especifique qué problema de Machine Learning está resolviendo."
      ],
      "metadata": {
        "id": "yR-VpfDW2x9x"
      }
    },
    {
      "cell_type": "markdown",
      "source": [
        "$\\underline{\\textit{Solución}}$\n",
        "\n",
        "\n"
      ],
      "metadata": {
        "id": "mJPErYaFANsQ"
      }
    },
    {
      "cell_type": "markdown",
      "source": [
        "Veamos que tipo de datos tenemos, y que intenta solucionar el código"
      ],
      "metadata": {
        "id": "vVvg3wVICs6g"
      }
    },
    {
      "cell_type": "code",
      "source": [
        "import numpy as np\n",
        "import pandas as pd\n",
        "data1=pd.read_csv(\"https://archive.ics.uci.edu/ml/machine-learning-databases/00267/data_banknote_authentication.txt\", sep=\",\", header=None)"
      ],
      "metadata": {
        "id": "loEefg4DC1Ba"
      },
      "execution_count": 130,
      "outputs": []
    },
    {
      "cell_type": "code",
      "source": [
        "data1"
      ],
      "metadata": {
        "colab": {
          "base_uri": "https://localhost:8080/",
          "height": 424
        },
        "id": "1jH1GcvUDBin",
        "outputId": "862072d5-188b-4412-c050-f452af2d5692"
      },
      "execution_count": 131,
      "outputs": [
        {
          "output_type": "execute_result",
          "data": {
            "text/plain": [
              "            0         1        2        3  4\n",
              "0     3.62160   8.66610  -2.8073 -0.44699  0\n",
              "1     4.54590   8.16740  -2.4586 -1.46210  0\n",
              "2     3.86600  -2.63830   1.9242  0.10645  0\n",
              "3     3.45660   9.52280  -4.0112 -3.59440  0\n",
              "4     0.32924  -4.45520   4.5718 -0.98880  0\n",
              "...       ...       ...      ...      ... ..\n",
              "1367  0.40614   1.34920  -1.4501 -0.55949  1\n",
              "1368 -1.38870  -4.87730   6.4774  0.34179  1\n",
              "1369 -3.75030 -13.45860  17.5932 -2.77710  1\n",
              "1370 -3.56370  -8.38270  12.3930 -1.28230  1\n",
              "1371 -2.54190  -0.65804   2.6842  1.19520  1\n",
              "\n",
              "[1372 rows x 5 columns]"
            ],
            "text/html": [
              "\n",
              "  <div id=\"df-469cc941-0f78-47cb-b2e5-73a899931fda\">\n",
              "    <div class=\"colab-df-container\">\n",
              "      <div>\n",
              "<style scoped>\n",
              "    .dataframe tbody tr th:only-of-type {\n",
              "        vertical-align: middle;\n",
              "    }\n",
              "\n",
              "    .dataframe tbody tr th {\n",
              "        vertical-align: top;\n",
              "    }\n",
              "\n",
              "    .dataframe thead th {\n",
              "        text-align: right;\n",
              "    }\n",
              "</style>\n",
              "<table border=\"1\" class=\"dataframe\">\n",
              "  <thead>\n",
              "    <tr style=\"text-align: right;\">\n",
              "      <th></th>\n",
              "      <th>0</th>\n",
              "      <th>1</th>\n",
              "      <th>2</th>\n",
              "      <th>3</th>\n",
              "      <th>4</th>\n",
              "    </tr>\n",
              "  </thead>\n",
              "  <tbody>\n",
              "    <tr>\n",
              "      <th>0</th>\n",
              "      <td>3.62160</td>\n",
              "      <td>8.66610</td>\n",
              "      <td>-2.8073</td>\n",
              "      <td>-0.44699</td>\n",
              "      <td>0</td>\n",
              "    </tr>\n",
              "    <tr>\n",
              "      <th>1</th>\n",
              "      <td>4.54590</td>\n",
              "      <td>8.16740</td>\n",
              "      <td>-2.4586</td>\n",
              "      <td>-1.46210</td>\n",
              "      <td>0</td>\n",
              "    </tr>\n",
              "    <tr>\n",
              "      <th>2</th>\n",
              "      <td>3.86600</td>\n",
              "      <td>-2.63830</td>\n",
              "      <td>1.9242</td>\n",
              "      <td>0.10645</td>\n",
              "      <td>0</td>\n",
              "    </tr>\n",
              "    <tr>\n",
              "      <th>3</th>\n",
              "      <td>3.45660</td>\n",
              "      <td>9.52280</td>\n",
              "      <td>-4.0112</td>\n",
              "      <td>-3.59440</td>\n",
              "      <td>0</td>\n",
              "    </tr>\n",
              "    <tr>\n",
              "      <th>4</th>\n",
              "      <td>0.32924</td>\n",
              "      <td>-4.45520</td>\n",
              "      <td>4.5718</td>\n",
              "      <td>-0.98880</td>\n",
              "      <td>0</td>\n",
              "    </tr>\n",
              "    <tr>\n",
              "      <th>...</th>\n",
              "      <td>...</td>\n",
              "      <td>...</td>\n",
              "      <td>...</td>\n",
              "      <td>...</td>\n",
              "      <td>...</td>\n",
              "    </tr>\n",
              "    <tr>\n",
              "      <th>1367</th>\n",
              "      <td>0.40614</td>\n",
              "      <td>1.34920</td>\n",
              "      <td>-1.4501</td>\n",
              "      <td>-0.55949</td>\n",
              "      <td>1</td>\n",
              "    </tr>\n",
              "    <tr>\n",
              "      <th>1368</th>\n",
              "      <td>-1.38870</td>\n",
              "      <td>-4.87730</td>\n",
              "      <td>6.4774</td>\n",
              "      <td>0.34179</td>\n",
              "      <td>1</td>\n",
              "    </tr>\n",
              "    <tr>\n",
              "      <th>1369</th>\n",
              "      <td>-3.75030</td>\n",
              "      <td>-13.45860</td>\n",
              "      <td>17.5932</td>\n",
              "      <td>-2.77710</td>\n",
              "      <td>1</td>\n",
              "    </tr>\n",
              "    <tr>\n",
              "      <th>1370</th>\n",
              "      <td>-3.56370</td>\n",
              "      <td>-8.38270</td>\n",
              "      <td>12.3930</td>\n",
              "      <td>-1.28230</td>\n",
              "      <td>1</td>\n",
              "    </tr>\n",
              "    <tr>\n",
              "      <th>1371</th>\n",
              "      <td>-2.54190</td>\n",
              "      <td>-0.65804</td>\n",
              "      <td>2.6842</td>\n",
              "      <td>1.19520</td>\n",
              "      <td>1</td>\n",
              "    </tr>\n",
              "  </tbody>\n",
              "</table>\n",
              "<p>1372 rows × 5 columns</p>\n",
              "</div>\n",
              "      <button class=\"colab-df-convert\" onclick=\"convertToInteractive('df-469cc941-0f78-47cb-b2e5-73a899931fda')\"\n",
              "              title=\"Convert this dataframe to an interactive table.\"\n",
              "              style=\"display:none;\">\n",
              "        \n",
              "  <svg xmlns=\"http://www.w3.org/2000/svg\" height=\"24px\"viewBox=\"0 0 24 24\"\n",
              "       width=\"24px\">\n",
              "    <path d=\"M0 0h24v24H0V0z\" fill=\"none\"/>\n",
              "    <path d=\"M18.56 5.44l.94 2.06.94-2.06 2.06-.94-2.06-.94-.94-2.06-.94 2.06-2.06.94zm-11 1L8.5 8.5l.94-2.06 2.06-.94-2.06-.94L8.5 2.5l-.94 2.06-2.06.94zm10 10l.94 2.06.94-2.06 2.06-.94-2.06-.94-.94-2.06-.94 2.06-2.06.94z\"/><path d=\"M17.41 7.96l-1.37-1.37c-.4-.4-.92-.59-1.43-.59-.52 0-1.04.2-1.43.59L10.3 9.45l-7.72 7.72c-.78.78-.78 2.05 0 2.83L4 21.41c.39.39.9.59 1.41.59.51 0 1.02-.2 1.41-.59l7.78-7.78 2.81-2.81c.8-.78.8-2.07 0-2.86zM5.41 20L4 18.59l7.72-7.72 1.47 1.35L5.41 20z\"/>\n",
              "  </svg>\n",
              "      </button>\n",
              "      \n",
              "  <style>\n",
              "    .colab-df-container {\n",
              "      display:flex;\n",
              "      flex-wrap:wrap;\n",
              "      gap: 12px;\n",
              "    }\n",
              "\n",
              "    .colab-df-convert {\n",
              "      background-color: #E8F0FE;\n",
              "      border: none;\n",
              "      border-radius: 50%;\n",
              "      cursor: pointer;\n",
              "      display: none;\n",
              "      fill: #1967D2;\n",
              "      height: 32px;\n",
              "      padding: 0 0 0 0;\n",
              "      width: 32px;\n",
              "    }\n",
              "\n",
              "    .colab-df-convert:hover {\n",
              "      background-color: #E2EBFA;\n",
              "      box-shadow: 0px 1px 2px rgba(60, 64, 67, 0.3), 0px 1px 3px 1px rgba(60, 64, 67, 0.15);\n",
              "      fill: #174EA6;\n",
              "    }\n",
              "\n",
              "    [theme=dark] .colab-df-convert {\n",
              "      background-color: #3B4455;\n",
              "      fill: #D2E3FC;\n",
              "    }\n",
              "\n",
              "    [theme=dark] .colab-df-convert:hover {\n",
              "      background-color: #434B5C;\n",
              "      box-shadow: 0px 1px 3px 1px rgba(0, 0, 0, 0.15);\n",
              "      filter: drop-shadow(0px 1px 2px rgba(0, 0, 0, 0.3));\n",
              "      fill: #FFFFFF;\n",
              "    }\n",
              "  </style>\n",
              "\n",
              "      <script>\n",
              "        const buttonEl =\n",
              "          document.querySelector('#df-469cc941-0f78-47cb-b2e5-73a899931fda button.colab-df-convert');\n",
              "        buttonEl.style.display =\n",
              "          google.colab.kernel.accessAllowed ? 'block' : 'none';\n",
              "\n",
              "        async function convertToInteractive(key) {\n",
              "          const element = document.querySelector('#df-469cc941-0f78-47cb-b2e5-73a899931fda');\n",
              "          const dataTable =\n",
              "            await google.colab.kernel.invokeFunction('convertToInteractive',\n",
              "                                                     [key], {});\n",
              "          if (!dataTable) return;\n",
              "\n",
              "          const docLinkHtml = 'Like what you see? Visit the ' +\n",
              "            '<a target=\"_blank\" href=https://colab.research.google.com/notebooks/data_table.ipynb>data table notebook</a>'\n",
              "            + ' to learn more about interactive tables.';\n",
              "          element.innerHTML = '';\n",
              "          dataTable['output_type'] = 'display_data';\n",
              "          await google.colab.output.renderOutput(dataTable, element);\n",
              "          const docLink = document.createElement('div');\n",
              "          docLink.innerHTML = docLinkHtml;\n",
              "          element.appendChild(docLink);\n",
              "        }\n",
              "      </script>\n",
              "    </div>\n",
              "  </div>\n",
              "  "
            ]
          },
          "metadata": {},
          "execution_count": 131
        }
      ]
    },
    {
      "cell_type": "markdown",
      "source": [
        "Notemos que lo anterior clasifica a los datos en la ultima columna con 0 o 1, luego el problema que debemos resolver corresponde a aprendizaje de máquina supervisado puesto que los vectores de caracteristicas estan etiquetados con 2  posbiles valores.  "
      ],
      "metadata": {
        "id": "CFiAlvSTDI5Q"
      }
    },
    {
      "cell_type": "markdown",
      "source": [
        "Ahora veamos el segundo dataset"
      ],
      "metadata": {
        "id": "DRmdWqWmDyI5"
      }
    },
    {
      "cell_type": "code",
      "source": [
        "import numpy as np\n",
        "import pandas as pd\n",
        "import requests, zipfile, io\n",
        "r = requests.get('https://archive.ics.uci.edu/ml/machine-learning-databases/00357/occupancy_data.zip')\n",
        "z = zipfile.ZipFile(io.BytesIO(r.content))"
      ],
      "metadata": {
        "id": "CsXkj_K7D2z-"
      },
      "execution_count": 132,
      "outputs": []
    },
    {
      "cell_type": "code",
      "source": [
        "\n",
        "f3=z.open(\"datatraining.txt\")    #Datos de entrenamamiento\n",
        "data21 = pd.read_csv(f3, sep=\",\")\n",
        "data21"
      ],
      "metadata": {
        "colab": {
          "base_uri": "https://localhost:8080/",
          "height": 424
        },
        "id": "LZ10tsjfDu3W",
        "outputId": "fe9f26db-3ce0-4804-814c-05bee26f87de"
      },
      "execution_count": 133,
      "outputs": [
        {
          "output_type": "execute_result",
          "data": {
            "text/plain": [
              "                     date  Temperature  Humidity  Light         CO2  \\\n",
              "1     2015-02-04 17:51:00        23.18   27.2720  426.0  721.250000   \n",
              "2     2015-02-04 17:51:59        23.15   27.2675  429.5  714.000000   \n",
              "3     2015-02-04 17:53:00        23.15   27.2450  426.0  713.500000   \n",
              "4     2015-02-04 17:54:00        23.15   27.2000  426.0  708.250000   \n",
              "5     2015-02-04 17:55:00        23.10   27.2000  426.0  704.500000   \n",
              "...                   ...          ...       ...    ...         ...   \n",
              "8139  2015-02-10 09:29:00        21.05   36.0975  433.0  787.250000   \n",
              "8140  2015-02-10 09:29:59        21.05   35.9950  433.0  789.500000   \n",
              "8141  2015-02-10 09:30:59        21.10   36.0950  433.0  798.500000   \n",
              "8142  2015-02-10 09:32:00        21.10   36.2600  433.0  820.333333   \n",
              "8143  2015-02-10 09:33:00        21.10   36.2000  447.0  821.000000   \n",
              "\n",
              "      HumidityRatio  Occupancy  \n",
              "1          0.004793          1  \n",
              "2          0.004783          1  \n",
              "3          0.004779          1  \n",
              "4          0.004772          1  \n",
              "5          0.004757          1  \n",
              "...             ...        ...  \n",
              "8139       0.005579          1  \n",
              "8140       0.005563          1  \n",
              "8141       0.005596          1  \n",
              "8142       0.005621          1  \n",
              "8143       0.005612          1  \n",
              "\n",
              "[8143 rows x 7 columns]"
            ],
            "text/html": [
              "\n",
              "  <div id=\"df-0ce17208-b9e5-41ee-874f-8a117648a6ac\">\n",
              "    <div class=\"colab-df-container\">\n",
              "      <div>\n",
              "<style scoped>\n",
              "    .dataframe tbody tr th:only-of-type {\n",
              "        vertical-align: middle;\n",
              "    }\n",
              "\n",
              "    .dataframe tbody tr th {\n",
              "        vertical-align: top;\n",
              "    }\n",
              "\n",
              "    .dataframe thead th {\n",
              "        text-align: right;\n",
              "    }\n",
              "</style>\n",
              "<table border=\"1\" class=\"dataframe\">\n",
              "  <thead>\n",
              "    <tr style=\"text-align: right;\">\n",
              "      <th></th>\n",
              "      <th>date</th>\n",
              "      <th>Temperature</th>\n",
              "      <th>Humidity</th>\n",
              "      <th>Light</th>\n",
              "      <th>CO2</th>\n",
              "      <th>HumidityRatio</th>\n",
              "      <th>Occupancy</th>\n",
              "    </tr>\n",
              "  </thead>\n",
              "  <tbody>\n",
              "    <tr>\n",
              "      <th>1</th>\n",
              "      <td>2015-02-04 17:51:00</td>\n",
              "      <td>23.18</td>\n",
              "      <td>27.2720</td>\n",
              "      <td>426.0</td>\n",
              "      <td>721.250000</td>\n",
              "      <td>0.004793</td>\n",
              "      <td>1</td>\n",
              "    </tr>\n",
              "    <tr>\n",
              "      <th>2</th>\n",
              "      <td>2015-02-04 17:51:59</td>\n",
              "      <td>23.15</td>\n",
              "      <td>27.2675</td>\n",
              "      <td>429.5</td>\n",
              "      <td>714.000000</td>\n",
              "      <td>0.004783</td>\n",
              "      <td>1</td>\n",
              "    </tr>\n",
              "    <tr>\n",
              "      <th>3</th>\n",
              "      <td>2015-02-04 17:53:00</td>\n",
              "      <td>23.15</td>\n",
              "      <td>27.2450</td>\n",
              "      <td>426.0</td>\n",
              "      <td>713.500000</td>\n",
              "      <td>0.004779</td>\n",
              "      <td>1</td>\n",
              "    </tr>\n",
              "    <tr>\n",
              "      <th>4</th>\n",
              "      <td>2015-02-04 17:54:00</td>\n",
              "      <td>23.15</td>\n",
              "      <td>27.2000</td>\n",
              "      <td>426.0</td>\n",
              "      <td>708.250000</td>\n",
              "      <td>0.004772</td>\n",
              "      <td>1</td>\n",
              "    </tr>\n",
              "    <tr>\n",
              "      <th>5</th>\n",
              "      <td>2015-02-04 17:55:00</td>\n",
              "      <td>23.10</td>\n",
              "      <td>27.2000</td>\n",
              "      <td>426.0</td>\n",
              "      <td>704.500000</td>\n",
              "      <td>0.004757</td>\n",
              "      <td>1</td>\n",
              "    </tr>\n",
              "    <tr>\n",
              "      <th>...</th>\n",
              "      <td>...</td>\n",
              "      <td>...</td>\n",
              "      <td>...</td>\n",
              "      <td>...</td>\n",
              "      <td>...</td>\n",
              "      <td>...</td>\n",
              "      <td>...</td>\n",
              "    </tr>\n",
              "    <tr>\n",
              "      <th>8139</th>\n",
              "      <td>2015-02-10 09:29:00</td>\n",
              "      <td>21.05</td>\n",
              "      <td>36.0975</td>\n",
              "      <td>433.0</td>\n",
              "      <td>787.250000</td>\n",
              "      <td>0.005579</td>\n",
              "      <td>1</td>\n",
              "    </tr>\n",
              "    <tr>\n",
              "      <th>8140</th>\n",
              "      <td>2015-02-10 09:29:59</td>\n",
              "      <td>21.05</td>\n",
              "      <td>35.9950</td>\n",
              "      <td>433.0</td>\n",
              "      <td>789.500000</td>\n",
              "      <td>0.005563</td>\n",
              "      <td>1</td>\n",
              "    </tr>\n",
              "    <tr>\n",
              "      <th>8141</th>\n",
              "      <td>2015-02-10 09:30:59</td>\n",
              "      <td>21.10</td>\n",
              "      <td>36.0950</td>\n",
              "      <td>433.0</td>\n",
              "      <td>798.500000</td>\n",
              "      <td>0.005596</td>\n",
              "      <td>1</td>\n",
              "    </tr>\n",
              "    <tr>\n",
              "      <th>8142</th>\n",
              "      <td>2015-02-10 09:32:00</td>\n",
              "      <td>21.10</td>\n",
              "      <td>36.2600</td>\n",
              "      <td>433.0</td>\n",
              "      <td>820.333333</td>\n",
              "      <td>0.005621</td>\n",
              "      <td>1</td>\n",
              "    </tr>\n",
              "    <tr>\n",
              "      <th>8143</th>\n",
              "      <td>2015-02-10 09:33:00</td>\n",
              "      <td>21.10</td>\n",
              "      <td>36.2000</td>\n",
              "      <td>447.0</td>\n",
              "      <td>821.000000</td>\n",
              "      <td>0.005612</td>\n",
              "      <td>1</td>\n",
              "    </tr>\n",
              "  </tbody>\n",
              "</table>\n",
              "<p>8143 rows × 7 columns</p>\n",
              "</div>\n",
              "      <button class=\"colab-df-convert\" onclick=\"convertToInteractive('df-0ce17208-b9e5-41ee-874f-8a117648a6ac')\"\n",
              "              title=\"Convert this dataframe to an interactive table.\"\n",
              "              style=\"display:none;\">\n",
              "        \n",
              "  <svg xmlns=\"http://www.w3.org/2000/svg\" height=\"24px\"viewBox=\"0 0 24 24\"\n",
              "       width=\"24px\">\n",
              "    <path d=\"M0 0h24v24H0V0z\" fill=\"none\"/>\n",
              "    <path d=\"M18.56 5.44l.94 2.06.94-2.06 2.06-.94-2.06-.94-.94-2.06-.94 2.06-2.06.94zm-11 1L8.5 8.5l.94-2.06 2.06-.94-2.06-.94L8.5 2.5l-.94 2.06-2.06.94zm10 10l.94 2.06.94-2.06 2.06-.94-2.06-.94-.94-2.06-.94 2.06-2.06.94z\"/><path d=\"M17.41 7.96l-1.37-1.37c-.4-.4-.92-.59-1.43-.59-.52 0-1.04.2-1.43.59L10.3 9.45l-7.72 7.72c-.78.78-.78 2.05 0 2.83L4 21.41c.39.39.9.59 1.41.59.51 0 1.02-.2 1.41-.59l7.78-7.78 2.81-2.81c.8-.78.8-2.07 0-2.86zM5.41 20L4 18.59l7.72-7.72 1.47 1.35L5.41 20z\"/>\n",
              "  </svg>\n",
              "      </button>\n",
              "      \n",
              "  <style>\n",
              "    .colab-df-container {\n",
              "      display:flex;\n",
              "      flex-wrap:wrap;\n",
              "      gap: 12px;\n",
              "    }\n",
              "\n",
              "    .colab-df-convert {\n",
              "      background-color: #E8F0FE;\n",
              "      border: none;\n",
              "      border-radius: 50%;\n",
              "      cursor: pointer;\n",
              "      display: none;\n",
              "      fill: #1967D2;\n",
              "      height: 32px;\n",
              "      padding: 0 0 0 0;\n",
              "      width: 32px;\n",
              "    }\n",
              "\n",
              "    .colab-df-convert:hover {\n",
              "      background-color: #E2EBFA;\n",
              "      box-shadow: 0px 1px 2px rgba(60, 64, 67, 0.3), 0px 1px 3px 1px rgba(60, 64, 67, 0.15);\n",
              "      fill: #174EA6;\n",
              "    }\n",
              "\n",
              "    [theme=dark] .colab-df-convert {\n",
              "      background-color: #3B4455;\n",
              "      fill: #D2E3FC;\n",
              "    }\n",
              "\n",
              "    [theme=dark] .colab-df-convert:hover {\n",
              "      background-color: #434B5C;\n",
              "      box-shadow: 0px 1px 3px 1px rgba(0, 0, 0, 0.15);\n",
              "      filter: drop-shadow(0px 1px 2px rgba(0, 0, 0, 0.3));\n",
              "      fill: #FFFFFF;\n",
              "    }\n",
              "  </style>\n",
              "\n",
              "      <script>\n",
              "        const buttonEl =\n",
              "          document.querySelector('#df-0ce17208-b9e5-41ee-874f-8a117648a6ac button.colab-df-convert');\n",
              "        buttonEl.style.display =\n",
              "          google.colab.kernel.accessAllowed ? 'block' : 'none';\n",
              "\n",
              "        async function convertToInteractive(key) {\n",
              "          const element = document.querySelector('#df-0ce17208-b9e5-41ee-874f-8a117648a6ac');\n",
              "          const dataTable =\n",
              "            await google.colab.kernel.invokeFunction('convertToInteractive',\n",
              "                                                     [key], {});\n",
              "          if (!dataTable) return;\n",
              "\n",
              "          const docLinkHtml = 'Like what you see? Visit the ' +\n",
              "            '<a target=\"_blank\" href=https://colab.research.google.com/notebooks/data_table.ipynb>data table notebook</a>'\n",
              "            + ' to learn more about interactive tables.';\n",
              "          element.innerHTML = '';\n",
              "          dataTable['output_type'] = 'display_data';\n",
              "          await google.colab.output.renderOutput(dataTable, element);\n",
              "          const docLink = document.createElement('div');\n",
              "          docLink.innerHTML = docLinkHtml;\n",
              "          element.appendChild(docLink);\n",
              "        }\n",
              "      </script>\n",
              "    </div>\n",
              "  </div>\n",
              "  "
            ]
          },
          "metadata": {},
          "execution_count": 133
        }
      ]
    },
    {
      "cell_type": "code",
      "source": [
        "f1 = z.open(\"datatest.txt\")   #Datos de testeo 1\n",
        "data22 = pd.read_csv(f1, sep=\",\")\n",
        "data22"
      ],
      "metadata": {
        "colab": {
          "base_uri": "https://localhost:8080/",
          "height": 424
        },
        "id": "HGr3iMb3chKz",
        "outputId": "e3c35a29-e1b7-47e9-e6ba-bef677a68c6b"
      },
      "execution_count": 134,
      "outputs": [
        {
          "output_type": "execute_result",
          "data": {
            "text/plain": [
              "                     date  Temperature   Humidity       Light          CO2  \\\n",
              "140   2015-02-02 14:19:00    23.700000  26.272000  585.200000   749.200000   \n",
              "141   2015-02-02 14:19:59    23.718000  26.290000  578.400000   760.400000   \n",
              "142   2015-02-02 14:21:00    23.730000  26.230000  572.666667   769.666667   \n",
              "143   2015-02-02 14:22:00    23.722500  26.125000  493.750000   774.750000   \n",
              "144   2015-02-02 14:23:00    23.754000  26.200000  488.600000   779.000000   \n",
              "...                   ...          ...        ...         ...          ...   \n",
              "2800  2015-02-04 10:38:59    24.290000  25.700000  808.000000  1150.250000   \n",
              "2801  2015-02-04 10:40:00    24.330000  25.736000  809.800000  1129.200000   \n",
              "2802  2015-02-04 10:40:59    24.330000  25.700000  817.000000  1125.800000   \n",
              "2803  2015-02-04 10:41:59    24.356667  25.700000  813.000000  1123.000000   \n",
              "2804  2015-02-04 10:43:00    24.408333  25.681667  798.000000  1124.000000   \n",
              "\n",
              "      HumidityRatio  Occupancy  \n",
              "140        0.004764          1  \n",
              "141        0.004773          1  \n",
              "142        0.004765          1  \n",
              "143        0.004744          1  \n",
              "144        0.004767          1  \n",
              "...             ...        ...  \n",
              "2800       0.004829          1  \n",
              "2801       0.004848          1  \n",
              "2802       0.004841          1  \n",
              "2803       0.004849          1  \n",
              "2804       0.004860          1  \n",
              "\n",
              "[2665 rows x 7 columns]"
            ],
            "text/html": [
              "\n",
              "  <div id=\"df-d48c9b1f-b847-4e6d-b87c-519c8e88d00b\">\n",
              "    <div class=\"colab-df-container\">\n",
              "      <div>\n",
              "<style scoped>\n",
              "    .dataframe tbody tr th:only-of-type {\n",
              "        vertical-align: middle;\n",
              "    }\n",
              "\n",
              "    .dataframe tbody tr th {\n",
              "        vertical-align: top;\n",
              "    }\n",
              "\n",
              "    .dataframe thead th {\n",
              "        text-align: right;\n",
              "    }\n",
              "</style>\n",
              "<table border=\"1\" class=\"dataframe\">\n",
              "  <thead>\n",
              "    <tr style=\"text-align: right;\">\n",
              "      <th></th>\n",
              "      <th>date</th>\n",
              "      <th>Temperature</th>\n",
              "      <th>Humidity</th>\n",
              "      <th>Light</th>\n",
              "      <th>CO2</th>\n",
              "      <th>HumidityRatio</th>\n",
              "      <th>Occupancy</th>\n",
              "    </tr>\n",
              "  </thead>\n",
              "  <tbody>\n",
              "    <tr>\n",
              "      <th>140</th>\n",
              "      <td>2015-02-02 14:19:00</td>\n",
              "      <td>23.700000</td>\n",
              "      <td>26.272000</td>\n",
              "      <td>585.200000</td>\n",
              "      <td>749.200000</td>\n",
              "      <td>0.004764</td>\n",
              "      <td>1</td>\n",
              "    </tr>\n",
              "    <tr>\n",
              "      <th>141</th>\n",
              "      <td>2015-02-02 14:19:59</td>\n",
              "      <td>23.718000</td>\n",
              "      <td>26.290000</td>\n",
              "      <td>578.400000</td>\n",
              "      <td>760.400000</td>\n",
              "      <td>0.004773</td>\n",
              "      <td>1</td>\n",
              "    </tr>\n",
              "    <tr>\n",
              "      <th>142</th>\n",
              "      <td>2015-02-02 14:21:00</td>\n",
              "      <td>23.730000</td>\n",
              "      <td>26.230000</td>\n",
              "      <td>572.666667</td>\n",
              "      <td>769.666667</td>\n",
              "      <td>0.004765</td>\n",
              "      <td>1</td>\n",
              "    </tr>\n",
              "    <tr>\n",
              "      <th>143</th>\n",
              "      <td>2015-02-02 14:22:00</td>\n",
              "      <td>23.722500</td>\n",
              "      <td>26.125000</td>\n",
              "      <td>493.750000</td>\n",
              "      <td>774.750000</td>\n",
              "      <td>0.004744</td>\n",
              "      <td>1</td>\n",
              "    </tr>\n",
              "    <tr>\n",
              "      <th>144</th>\n",
              "      <td>2015-02-02 14:23:00</td>\n",
              "      <td>23.754000</td>\n",
              "      <td>26.200000</td>\n",
              "      <td>488.600000</td>\n",
              "      <td>779.000000</td>\n",
              "      <td>0.004767</td>\n",
              "      <td>1</td>\n",
              "    </tr>\n",
              "    <tr>\n",
              "      <th>...</th>\n",
              "      <td>...</td>\n",
              "      <td>...</td>\n",
              "      <td>...</td>\n",
              "      <td>...</td>\n",
              "      <td>...</td>\n",
              "      <td>...</td>\n",
              "      <td>...</td>\n",
              "    </tr>\n",
              "    <tr>\n",
              "      <th>2800</th>\n",
              "      <td>2015-02-04 10:38:59</td>\n",
              "      <td>24.290000</td>\n",
              "      <td>25.700000</td>\n",
              "      <td>808.000000</td>\n",
              "      <td>1150.250000</td>\n",
              "      <td>0.004829</td>\n",
              "      <td>1</td>\n",
              "    </tr>\n",
              "    <tr>\n",
              "      <th>2801</th>\n",
              "      <td>2015-02-04 10:40:00</td>\n",
              "      <td>24.330000</td>\n",
              "      <td>25.736000</td>\n",
              "      <td>809.800000</td>\n",
              "      <td>1129.200000</td>\n",
              "      <td>0.004848</td>\n",
              "      <td>1</td>\n",
              "    </tr>\n",
              "    <tr>\n",
              "      <th>2802</th>\n",
              "      <td>2015-02-04 10:40:59</td>\n",
              "      <td>24.330000</td>\n",
              "      <td>25.700000</td>\n",
              "      <td>817.000000</td>\n",
              "      <td>1125.800000</td>\n",
              "      <td>0.004841</td>\n",
              "      <td>1</td>\n",
              "    </tr>\n",
              "    <tr>\n",
              "      <th>2803</th>\n",
              "      <td>2015-02-04 10:41:59</td>\n",
              "      <td>24.356667</td>\n",
              "      <td>25.700000</td>\n",
              "      <td>813.000000</td>\n",
              "      <td>1123.000000</td>\n",
              "      <td>0.004849</td>\n",
              "      <td>1</td>\n",
              "    </tr>\n",
              "    <tr>\n",
              "      <th>2804</th>\n",
              "      <td>2015-02-04 10:43:00</td>\n",
              "      <td>24.408333</td>\n",
              "      <td>25.681667</td>\n",
              "      <td>798.000000</td>\n",
              "      <td>1124.000000</td>\n",
              "      <td>0.004860</td>\n",
              "      <td>1</td>\n",
              "    </tr>\n",
              "  </tbody>\n",
              "</table>\n",
              "<p>2665 rows × 7 columns</p>\n",
              "</div>\n",
              "      <button class=\"colab-df-convert\" onclick=\"convertToInteractive('df-d48c9b1f-b847-4e6d-b87c-519c8e88d00b')\"\n",
              "              title=\"Convert this dataframe to an interactive table.\"\n",
              "              style=\"display:none;\">\n",
              "        \n",
              "  <svg xmlns=\"http://www.w3.org/2000/svg\" height=\"24px\"viewBox=\"0 0 24 24\"\n",
              "       width=\"24px\">\n",
              "    <path d=\"M0 0h24v24H0V0z\" fill=\"none\"/>\n",
              "    <path d=\"M18.56 5.44l.94 2.06.94-2.06 2.06-.94-2.06-.94-.94-2.06-.94 2.06-2.06.94zm-11 1L8.5 8.5l.94-2.06 2.06-.94-2.06-.94L8.5 2.5l-.94 2.06-2.06.94zm10 10l.94 2.06.94-2.06 2.06-.94-2.06-.94-.94-2.06-.94 2.06-2.06.94z\"/><path d=\"M17.41 7.96l-1.37-1.37c-.4-.4-.92-.59-1.43-.59-.52 0-1.04.2-1.43.59L10.3 9.45l-7.72 7.72c-.78.78-.78 2.05 0 2.83L4 21.41c.39.39.9.59 1.41.59.51 0 1.02-.2 1.41-.59l7.78-7.78 2.81-2.81c.8-.78.8-2.07 0-2.86zM5.41 20L4 18.59l7.72-7.72 1.47 1.35L5.41 20z\"/>\n",
              "  </svg>\n",
              "      </button>\n",
              "      \n",
              "  <style>\n",
              "    .colab-df-container {\n",
              "      display:flex;\n",
              "      flex-wrap:wrap;\n",
              "      gap: 12px;\n",
              "    }\n",
              "\n",
              "    .colab-df-convert {\n",
              "      background-color: #E8F0FE;\n",
              "      border: none;\n",
              "      border-radius: 50%;\n",
              "      cursor: pointer;\n",
              "      display: none;\n",
              "      fill: #1967D2;\n",
              "      height: 32px;\n",
              "      padding: 0 0 0 0;\n",
              "      width: 32px;\n",
              "    }\n",
              "\n",
              "    .colab-df-convert:hover {\n",
              "      background-color: #E2EBFA;\n",
              "      box-shadow: 0px 1px 2px rgba(60, 64, 67, 0.3), 0px 1px 3px 1px rgba(60, 64, 67, 0.15);\n",
              "      fill: #174EA6;\n",
              "    }\n",
              "\n",
              "    [theme=dark] .colab-df-convert {\n",
              "      background-color: #3B4455;\n",
              "      fill: #D2E3FC;\n",
              "    }\n",
              "\n",
              "    [theme=dark] .colab-df-convert:hover {\n",
              "      background-color: #434B5C;\n",
              "      box-shadow: 0px 1px 3px 1px rgba(0, 0, 0, 0.15);\n",
              "      filter: drop-shadow(0px 1px 2px rgba(0, 0, 0, 0.3));\n",
              "      fill: #FFFFFF;\n",
              "    }\n",
              "  </style>\n",
              "\n",
              "      <script>\n",
              "        const buttonEl =\n",
              "          document.querySelector('#df-d48c9b1f-b847-4e6d-b87c-519c8e88d00b button.colab-df-convert');\n",
              "        buttonEl.style.display =\n",
              "          google.colab.kernel.accessAllowed ? 'block' : 'none';\n",
              "\n",
              "        async function convertToInteractive(key) {\n",
              "          const element = document.querySelector('#df-d48c9b1f-b847-4e6d-b87c-519c8e88d00b');\n",
              "          const dataTable =\n",
              "            await google.colab.kernel.invokeFunction('convertToInteractive',\n",
              "                                                     [key], {});\n",
              "          if (!dataTable) return;\n",
              "\n",
              "          const docLinkHtml = 'Like what you see? Visit the ' +\n",
              "            '<a target=\"_blank\" href=https://colab.research.google.com/notebooks/data_table.ipynb>data table notebook</a>'\n",
              "            + ' to learn more about interactive tables.';\n",
              "          element.innerHTML = '';\n",
              "          dataTable['output_type'] = 'display_data';\n",
              "          await google.colab.output.renderOutput(dataTable, element);\n",
              "          const docLink = document.createElement('div');\n",
              "          docLink.innerHTML = docLinkHtml;\n",
              "          element.appendChild(docLink);\n",
              "        }\n",
              "      </script>\n",
              "    </div>\n",
              "  </div>\n",
              "  "
            ]
          },
          "metadata": {},
          "execution_count": 134
        }
      ]
    },
    {
      "cell_type": "code",
      "source": [
        "f1 = z.open(\"datatest2.txt\")   #Datos de testeo2\n",
        "data23 = pd.read_csv(f1, sep=\",\")\n",
        "data23"
      ],
      "metadata": {
        "colab": {
          "base_uri": "https://localhost:8080/",
          "height": 424
        },
        "id": "5Dt_kpF4LXwF",
        "outputId": "2f06f01f-564f-472e-e2eb-1050e97b980f"
      },
      "execution_count": 135,
      "outputs": [
        {
          "output_type": "execute_result",
          "data": {
            "text/plain": [
              "                     date  Temperature   Humidity       Light          CO2  \\\n",
              "1     2015-02-11 14:48:00      21.7600  31.133333  437.333333  1029.666667   \n",
              "2     2015-02-11 14:49:00      21.7900  31.000000  437.333333  1000.000000   \n",
              "3     2015-02-11 14:50:00      21.7675  31.122500  434.000000  1003.750000   \n",
              "4     2015-02-11 14:51:00      21.7675  31.122500  439.000000  1009.500000   \n",
              "5     2015-02-11 14:51:59      21.7900  31.133333  437.333333  1005.666667   \n",
              "...                   ...          ...        ...         ...          ...   \n",
              "9748  2015-02-18 09:15:00      20.8150  27.717500  429.750000  1505.250000   \n",
              "9749  2015-02-18 09:16:00      20.8650  27.745000  423.500000  1514.500000   \n",
              "9750  2015-02-18 09:16:59      20.8900  27.745000  423.500000  1521.500000   \n",
              "9751  2015-02-18 09:17:59      20.8900  28.022500  418.750000  1632.000000   \n",
              "9752  2015-02-18 09:19:00      21.0000  28.100000  409.000000  1864.000000   \n",
              "\n",
              "      HumidityRatio  Occupancy  \n",
              "1          0.005021          1  \n",
              "2          0.005009          1  \n",
              "3          0.005022          1  \n",
              "4          0.005022          1  \n",
              "5          0.005030          1  \n",
              "...             ...        ...  \n",
              "9748       0.004213          1  \n",
              "9749       0.004230          1  \n",
              "9750       0.004237          1  \n",
              "9751       0.004279          1  \n",
              "9752       0.004321          1  \n",
              "\n",
              "[9752 rows x 7 columns]"
            ],
            "text/html": [
              "\n",
              "  <div id=\"df-35b5940d-246b-4bc3-8264-a258f537301f\">\n",
              "    <div class=\"colab-df-container\">\n",
              "      <div>\n",
              "<style scoped>\n",
              "    .dataframe tbody tr th:only-of-type {\n",
              "        vertical-align: middle;\n",
              "    }\n",
              "\n",
              "    .dataframe tbody tr th {\n",
              "        vertical-align: top;\n",
              "    }\n",
              "\n",
              "    .dataframe thead th {\n",
              "        text-align: right;\n",
              "    }\n",
              "</style>\n",
              "<table border=\"1\" class=\"dataframe\">\n",
              "  <thead>\n",
              "    <tr style=\"text-align: right;\">\n",
              "      <th></th>\n",
              "      <th>date</th>\n",
              "      <th>Temperature</th>\n",
              "      <th>Humidity</th>\n",
              "      <th>Light</th>\n",
              "      <th>CO2</th>\n",
              "      <th>HumidityRatio</th>\n",
              "      <th>Occupancy</th>\n",
              "    </tr>\n",
              "  </thead>\n",
              "  <tbody>\n",
              "    <tr>\n",
              "      <th>1</th>\n",
              "      <td>2015-02-11 14:48:00</td>\n",
              "      <td>21.7600</td>\n",
              "      <td>31.133333</td>\n",
              "      <td>437.333333</td>\n",
              "      <td>1029.666667</td>\n",
              "      <td>0.005021</td>\n",
              "      <td>1</td>\n",
              "    </tr>\n",
              "    <tr>\n",
              "      <th>2</th>\n",
              "      <td>2015-02-11 14:49:00</td>\n",
              "      <td>21.7900</td>\n",
              "      <td>31.000000</td>\n",
              "      <td>437.333333</td>\n",
              "      <td>1000.000000</td>\n",
              "      <td>0.005009</td>\n",
              "      <td>1</td>\n",
              "    </tr>\n",
              "    <tr>\n",
              "      <th>3</th>\n",
              "      <td>2015-02-11 14:50:00</td>\n",
              "      <td>21.7675</td>\n",
              "      <td>31.122500</td>\n",
              "      <td>434.000000</td>\n",
              "      <td>1003.750000</td>\n",
              "      <td>0.005022</td>\n",
              "      <td>1</td>\n",
              "    </tr>\n",
              "    <tr>\n",
              "      <th>4</th>\n",
              "      <td>2015-02-11 14:51:00</td>\n",
              "      <td>21.7675</td>\n",
              "      <td>31.122500</td>\n",
              "      <td>439.000000</td>\n",
              "      <td>1009.500000</td>\n",
              "      <td>0.005022</td>\n",
              "      <td>1</td>\n",
              "    </tr>\n",
              "    <tr>\n",
              "      <th>5</th>\n",
              "      <td>2015-02-11 14:51:59</td>\n",
              "      <td>21.7900</td>\n",
              "      <td>31.133333</td>\n",
              "      <td>437.333333</td>\n",
              "      <td>1005.666667</td>\n",
              "      <td>0.005030</td>\n",
              "      <td>1</td>\n",
              "    </tr>\n",
              "    <tr>\n",
              "      <th>...</th>\n",
              "      <td>...</td>\n",
              "      <td>...</td>\n",
              "      <td>...</td>\n",
              "      <td>...</td>\n",
              "      <td>...</td>\n",
              "      <td>...</td>\n",
              "      <td>...</td>\n",
              "    </tr>\n",
              "    <tr>\n",
              "      <th>9748</th>\n",
              "      <td>2015-02-18 09:15:00</td>\n",
              "      <td>20.8150</td>\n",
              "      <td>27.717500</td>\n",
              "      <td>429.750000</td>\n",
              "      <td>1505.250000</td>\n",
              "      <td>0.004213</td>\n",
              "      <td>1</td>\n",
              "    </tr>\n",
              "    <tr>\n",
              "      <th>9749</th>\n",
              "      <td>2015-02-18 09:16:00</td>\n",
              "      <td>20.8650</td>\n",
              "      <td>27.745000</td>\n",
              "      <td>423.500000</td>\n",
              "      <td>1514.500000</td>\n",
              "      <td>0.004230</td>\n",
              "      <td>1</td>\n",
              "    </tr>\n",
              "    <tr>\n",
              "      <th>9750</th>\n",
              "      <td>2015-02-18 09:16:59</td>\n",
              "      <td>20.8900</td>\n",
              "      <td>27.745000</td>\n",
              "      <td>423.500000</td>\n",
              "      <td>1521.500000</td>\n",
              "      <td>0.004237</td>\n",
              "      <td>1</td>\n",
              "    </tr>\n",
              "    <tr>\n",
              "      <th>9751</th>\n",
              "      <td>2015-02-18 09:17:59</td>\n",
              "      <td>20.8900</td>\n",
              "      <td>28.022500</td>\n",
              "      <td>418.750000</td>\n",
              "      <td>1632.000000</td>\n",
              "      <td>0.004279</td>\n",
              "      <td>1</td>\n",
              "    </tr>\n",
              "    <tr>\n",
              "      <th>9752</th>\n",
              "      <td>2015-02-18 09:19:00</td>\n",
              "      <td>21.0000</td>\n",
              "      <td>28.100000</td>\n",
              "      <td>409.000000</td>\n",
              "      <td>1864.000000</td>\n",
              "      <td>0.004321</td>\n",
              "      <td>1</td>\n",
              "    </tr>\n",
              "  </tbody>\n",
              "</table>\n",
              "<p>9752 rows × 7 columns</p>\n",
              "</div>\n",
              "      <button class=\"colab-df-convert\" onclick=\"convertToInteractive('df-35b5940d-246b-4bc3-8264-a258f537301f')\"\n",
              "              title=\"Convert this dataframe to an interactive table.\"\n",
              "              style=\"display:none;\">\n",
              "        \n",
              "  <svg xmlns=\"http://www.w3.org/2000/svg\" height=\"24px\"viewBox=\"0 0 24 24\"\n",
              "       width=\"24px\">\n",
              "    <path d=\"M0 0h24v24H0V0z\" fill=\"none\"/>\n",
              "    <path d=\"M18.56 5.44l.94 2.06.94-2.06 2.06-.94-2.06-.94-.94-2.06-.94 2.06-2.06.94zm-11 1L8.5 8.5l.94-2.06 2.06-.94-2.06-.94L8.5 2.5l-.94 2.06-2.06.94zm10 10l.94 2.06.94-2.06 2.06-.94-2.06-.94-.94-2.06-.94 2.06-2.06.94z\"/><path d=\"M17.41 7.96l-1.37-1.37c-.4-.4-.92-.59-1.43-.59-.52 0-1.04.2-1.43.59L10.3 9.45l-7.72 7.72c-.78.78-.78 2.05 0 2.83L4 21.41c.39.39.9.59 1.41.59.51 0 1.02-.2 1.41-.59l7.78-7.78 2.81-2.81c.8-.78.8-2.07 0-2.86zM5.41 20L4 18.59l7.72-7.72 1.47 1.35L5.41 20z\"/>\n",
              "  </svg>\n",
              "      </button>\n",
              "      \n",
              "  <style>\n",
              "    .colab-df-container {\n",
              "      display:flex;\n",
              "      flex-wrap:wrap;\n",
              "      gap: 12px;\n",
              "    }\n",
              "\n",
              "    .colab-df-convert {\n",
              "      background-color: #E8F0FE;\n",
              "      border: none;\n",
              "      border-radius: 50%;\n",
              "      cursor: pointer;\n",
              "      display: none;\n",
              "      fill: #1967D2;\n",
              "      height: 32px;\n",
              "      padding: 0 0 0 0;\n",
              "      width: 32px;\n",
              "    }\n",
              "\n",
              "    .colab-df-convert:hover {\n",
              "      background-color: #E2EBFA;\n",
              "      box-shadow: 0px 1px 2px rgba(60, 64, 67, 0.3), 0px 1px 3px 1px rgba(60, 64, 67, 0.15);\n",
              "      fill: #174EA6;\n",
              "    }\n",
              "\n",
              "    [theme=dark] .colab-df-convert {\n",
              "      background-color: #3B4455;\n",
              "      fill: #D2E3FC;\n",
              "    }\n",
              "\n",
              "    [theme=dark] .colab-df-convert:hover {\n",
              "      background-color: #434B5C;\n",
              "      box-shadow: 0px 1px 3px 1px rgba(0, 0, 0, 0.15);\n",
              "      filter: drop-shadow(0px 1px 2px rgba(0, 0, 0, 0.3));\n",
              "      fill: #FFFFFF;\n",
              "    }\n",
              "  </style>\n",
              "\n",
              "      <script>\n",
              "        const buttonEl =\n",
              "          document.querySelector('#df-35b5940d-246b-4bc3-8264-a258f537301f button.colab-df-convert');\n",
              "        buttonEl.style.display =\n",
              "          google.colab.kernel.accessAllowed ? 'block' : 'none';\n",
              "\n",
              "        async function convertToInteractive(key) {\n",
              "          const element = document.querySelector('#df-35b5940d-246b-4bc3-8264-a258f537301f');\n",
              "          const dataTable =\n",
              "            await google.colab.kernel.invokeFunction('convertToInteractive',\n",
              "                                                     [key], {});\n",
              "          if (!dataTable) return;\n",
              "\n",
              "          const docLinkHtml = 'Like what you see? Visit the ' +\n",
              "            '<a target=\"_blank\" href=https://colab.research.google.com/notebooks/data_table.ipynb>data table notebook</a>'\n",
              "            + ' to learn more about interactive tables.';\n",
              "          element.innerHTML = '';\n",
              "          dataTable['output_type'] = 'display_data';\n",
              "          await google.colab.output.renderOutput(dataTable, element);\n",
              "          const docLink = document.createElement('div');\n",
              "          docLink.innerHTML = docLinkHtml;\n",
              "          element.appendChild(docLink);\n",
              "        }\n",
              "      </script>\n",
              "    </div>\n",
              "  </div>\n",
              "  "
            ]
          },
          "metadata": {},
          "execution_count": 135
        }
      ]
    },
    {
      "cell_type": "markdown",
      "source": [
        "Nuevamente  lo anterior clasifica a los datos en la ultima columna con 0 o 1, luego el problema que debemos resolver corresponde a aprendizaje de máquina supervisado puesto que los vectores de caracteristicas estan etiquetados con 2 posbiles valores.\n",
        "\n",
        "Además el código que se propone en la tarea esta diseñado para clasificar en 2 regiones por medio de SVM, luego nuevamente estamos en aprendizaje de máquina supervisado\n",
        "\n",
        "Ahora el codigo que se propueso en clase fue el siguiente:"
      ],
      "metadata": {
        "id": "wd0i3XcuEc-0"
      }
    },
    {
      "cell_type": "code",
      "source": [
        "#Código propuesto\n",
        "# https://pythonprogramming.net/svm-optimization-python-2-machine-learning-tutorial/?completed=/svm-optimization-python-machine-learning-tutorial/\n",
        "import matplotlib.pyplot as plt\n",
        "from matplotlib import style\n",
        "import numpy as np\n",
        "style.use('ggplot')\n",
        "\n",
        "class Support_Vector_Machine:\n",
        "    def __init__(self, visualization=True):\n",
        "        self.visualization = visualization\n",
        "        self.colors = {1:'r',-1:'b'}\n",
        "        if self.visualization:\n",
        "            self.fig = plt.figure()\n",
        "            self.ax = self.fig.add_subplot(1,1,1)\n",
        "    # train\n",
        "    def fit(self, data):\n",
        "        self.data = data\n",
        "        # { ||w||: [w,b] }\n",
        "        opt_dict = {}\n",
        "\n",
        "        transforms = [[1,1],\n",
        "                      [-1,1],\n",
        "                      [-1,-1],\n",
        "                      [1,-1]]\n",
        "\n",
        "        all_data = []\n",
        "        for yi in self.data:\n",
        "            for featureset in self.data[yi]:\n",
        "                for feature in featureset:\n",
        "                    all_data.append(feature)\n",
        "\n",
        "        self.max_feature_value = max(all_data)\n",
        "        self.min_feature_value = min(all_data)\n",
        "        all_data = None\n",
        "\n",
        "        # support vectors yi(xi.w+b) = 1\n",
        "        \n",
        "\n",
        "        step_sizes = [self.max_feature_value * 0.1,\n",
        "                      self.max_feature_value * 0.01,\n",
        "                      # point of expense:\n",
        "                      self.max_feature_value * 0.001,]\n",
        "\n",
        "        \n",
        "        \n",
        "        # extremely expensive\n",
        "        b_range_multiple = 5\n",
        "        # we dont need to take as small of steps\n",
        "        # with b as we do w\n",
        "        b_multiple = 5\n",
        "        latest_optimum = self.max_feature_value*10\n",
        "\n",
        "        for step in step_sizes:\n",
        "            w = np.array([latest_optimum,latest_optimum])\n",
        "            # we can do this because convex\n",
        "            optimized = False\n",
        "            while not optimized:\n",
        "                for b in np.arange(-1*(self.max_feature_value*b_range_multiple),\n",
        "                                   self.max_feature_value*b_range_multiple,\n",
        "                                   step*b_multiple):\n",
        "                    for transformation in transforms:\n",
        "                        w_t = w*transformation\n",
        "                        found_option = True\n",
        "                        # weakest link in the SVM fundamentally\n",
        "                        # SMO attempts to fix this a bit\n",
        "                        # yi(xi.w+b) >= 1\n",
        "                        # \n",
        "                        # #### add a break here later..\n",
        "                        for i in self.data:\n",
        "                            for xi in self.data[i]:\n",
        "                                yi=i\n",
        "                                # Verifiy constraints\n",
        "                                if not yi*(np.dot(w_t,xi)+b) >= 1:\n",
        "                                    found_option = False\n",
        "                                    \n",
        "                        if found_option:\n",
        "                            # Computes norm\n",
        "                            opt_dict[np.linalg.norm(w_t)] = [w_t,b]\n",
        "\n",
        "                if w[0] < 0:\n",
        "                    optimized = True\n",
        "                    print('Optimized a step.')\n",
        "                else:\n",
        "                    w = w - step\n",
        "\n",
        "            norms = sorted([n for n in opt_dict])\n",
        "            #||w|| : [w,b]\n",
        "            opt_choice = opt_dict[norms[0]]\n",
        "            self.w = opt_choice[0]\n",
        "            self.b = opt_choice[1]\n",
        "            latest_optimum = opt_choice[0][0]+step*2\n",
        "            \n",
        "\n",
        "    def predict(self,features):\n",
        "        # sign( x.w+b )\n",
        "        classification = np.sign(np.dot(np.array(features),self.w)+self.b)\n",
        "        return classification\n",
        "        \n",
        "        \n",
        "data_dict = {-1:np.array([[1,7],\n",
        "                          [2,8],\n",
        "                          [3,8],]),\n",
        "             \n",
        "             1:np.array([[5,1],\n",
        "                         [6,-1],\n",
        "                         [7,3],])}\n",
        "\n",
        "svm1 = Support_Vector_Machine()\n",
        "svm1.fit(data_dict)"
      ],
      "metadata": {
        "colab": {
          "base_uri": "https://localhost:8080/",
          "height": 321
        },
        "id": "ERgFJ5BNFTXS",
        "outputId": "6c180f86-b52f-4a4b-c2f7-403b065661e7"
      },
      "execution_count": 136,
      "outputs": [
        {
          "output_type": "stream",
          "name": "stdout",
          "text": [
            "Optimized a step.\n",
            "Optimized a step.\n",
            "Optimized a step.\n"
          ]
        },
        {
          "output_type": "display_data",
          "data": {
            "text/plain": [
              "<Figure size 432x288 with 1 Axes>"
            ],
            "image/png": "[encoded data removed]"
          },
          "metadata": {}
        }
      ]
    },
    {
      "cell_type": "markdown",
      "source": [
        "### **2)** Proporcione un breve resumen de las características y las etiquetas en las que está trabajando."
      ],
      "metadata": {
        "id": "Q8bq3Xuw2xEx"
      }
    },
    {
      "cell_type": "markdown",
      "source": [
        "$\\underline{\\textit{Solución}}$\n",
        "\n",
        "En el $\\textit{Primer Dataset}$ (https://archive.ics.uci.edu/ml/datasets/banknote+authentication) se tiene una serie de datos que provienen de imagenes que fueron tomadas para la evaluación de un procedimiento de autenticación de billetes, es decir son datos tomados de especimenes de billetes genuinos y falsos. Para determinar el vector de caracteristicas se usó como herramienta la transformada ondícula (Wavelet Transform) que permite extraer caracteristicas de las imagenes tomadas de los distintos billetes.\n",
        "\n",
        "Para usar esta herramienta se hace uso de la transformada ondícula integral definida como\n",
        "$$[W_{ψ}f](a,b) = \\frac{1}{\\sqrt{|a|}} \\int_{-∞}^{∞}\\overline{ψ\\left(\\frac{x-b}{a}\\right)}f(x)dx$$\n",
        "donde $ψ \\in L^{2}(\\mathbb{R})$ es una función llamada ondícula ortonormal (orthonormal wavelet) que es usada para definir una base de Hilbert, que es un sistema completo ortonormal, para el espacio de Hilbert $L^{2}(\\mathbb{R})$ de las funciones cuadrado integrables.\n",
        "\n",
        "Las caracteristicas que definen cada una de las componentes del vector de caracteristicas son las siguientes:\n",
        "\n",
        "- Primera componente: Diferencia de la imagen transformada ondícula (Wavelet Transformed image) - (continua)\n",
        "- Segunda componente: Asimetría de la imagen transformada ondícula (Wavelet Transformed image) - (continua)\n",
        "- Tercera componente: Curtosis de la imagen transformada ondícula (Wavelet Transformed image) - (continua)\n",
        "- Cuarta componente: Entropía de la imagen - (continua)\n",
        "- Quinta componente: Clase - (número entero 0 si es falso o 1 si es real)\n",
        "\n",
        "\n",
        "En el $\\textit{Segundo Dataset}$ (https://archive.ics.uci.edu/ml/datasets/Occupancy+Detection+) se tiene una serie de datos que establecen la ocupación de la tierra de fotos con sello de tiempo que fueron tomadas cada minuto. Estos datos experimentales fueron usados para clasificación binaria (ocupación de una habitación).\n",
        "\n",
        "Las caracteristicas que definen cada una de las componentes del vector de caracteristicas son las siguientes:\n",
        "\n",
        "- Primera componente: Fecha y hora (año-mes-día hora:minutos:segundos)\n",
        "- Segunda componente: Temperatura en Celsius\n",
        "- Tercera componente: Humedad relativa (Porcentaje - %)\n",
        "- Cuarta componente: Luz en Lux\n",
        "- Quinta componente: CO2 en ppm (Partes por millón)\n",
        "- Sexta componente: Tasa de humedad, cantidad derivada de la temperatura y la humedad relativa en $\\frac{[kg(vapor \\; de \\; agua)]}{[kg(aire)]}$\n",
        "- Septima componente: Ocupación, 0 ó 1, 0 para no ocupado y 1 para el estado de ocupado."
      ],
      "metadata": {
        "id": "NnAHIl_cAF6Y"
      }
    },
    {
      "cell_type": "code",
      "source": [
        "data22.to_numpy()"
      ],
      "metadata": {
        "id": "hKcvfUQAddzv"
      },
      "execution_count": null,
      "outputs": []
    },
    {
      "cell_type": "markdown",
      "source": [
        "### **3)**  Responda las siguientes preguntas"
      ],
      "metadata": {
        "id": "CVJAg5BE2wrp"
      }
    },
    {
      "cell_type": "markdown",
      "source": [
        "**a)** ¿Son estos conjuntos de datos linealmente separables?\n",
        "\n",
        "$\\underline{\\textit{Solución}}$\n",
        "\n",
        "\n",
        "Ahora para responder a esta pregunta, utilizaremos el hecho de que dos conjuntos de datos son linealmente separables si y solamente si, la envolvente convexa de cada conjunto de datos no se intersecta, para ver una demostración rigurosa de este hecho se puede consultar $[5]$.\n",
        "\n",
        "Ahora para implementar esto en python utilizamos el código dado en $[6]$ que nos dice cuando dos envolventes convexas de un conjuntos de puntos se intersectan (basícamente los que hace el codigo es utlizar el  paquete $\\texttt{Cvxpy}$ para obtimizar una constante bajo cierta restricción  y de alli deducir si los semiplanos de las restricciones se intersectan)\n"
      ],
      "metadata": {
        "id": "lZXctLPP_nvA"
      }
    },
    {
      "cell_type": "code",
      "source": [
        "#Código que encuentra la intersección entre 2 envolventes convexas\n",
        "\n",
        "import numpy as np\n",
        "import cvxpy as cvxpy\n",
        "\n",
        "# Determine feasibility of Ax <= b\n",
        "# cloud1 and cloud2 should be numpy.ndarrays\n",
        "def clouds_overlap(cloud1, cloud2):\n",
        "    # build the A matrix\n",
        "    cloud12 = np.vstack((-cloud1, cloud2))\n",
        "    vec_ones = np.r_[np.ones((len(cloud1),1)), -np.ones((len(cloud2),1))]\n",
        "    A = np.r_['1', cloud12, vec_ones]\n",
        "\n",
        "    # make b vector\n",
        "    ntot = len(cloud1) + len(cloud2)\n",
        "    b = -np.ones(ntot)\n",
        "\n",
        "    # define the x variable and the equation to be solved\n",
        "    x = cvxpy.Variable(A.shape[1])\n",
        "    constraints = [A@x <= b]\n",
        "\n",
        "    # since we're only determining feasibility there is no minimization\n",
        "    # so just set the objective function to a constant\n",
        "    obj = cvxpy.Minimize(0)\n",
        "\n",
        "    # SCS was the most accurate/robust of the non-commercial solvers\n",
        "    # for my application\n",
        "    problem = cvxpy.Problem(obj, constraints)\n",
        "    problem.solve(solver=cvxpy.SCS)\n",
        "\n",
        "    # Any 'inaccurate' status indicates ambiguity, so you can\n",
        "    # return True or False as you please\n",
        "    if problem.status == 'infeasible' or problem.status.endswith('inaccurate'):\n",
        "        return True\n",
        "    else:\n",
        "        return False"
      ],
      "metadata": {
        "id": "6DmNy_rOWpev"
      },
      "execution_count": null,
      "outputs": []
    },
    {
      "cell_type": "markdown",
      "source": [
        "Comenzamos por el $\\textit{ Primer Dataset}$  Separando los datos, por aquellos cuya etiqueta es 0, y aquellos cuya etiqueta es 1"
      ],
      "metadata": {
        "id": "H7WwF1vPsuZo"
      }
    },
    {
      "cell_type": "code",
      "source": [
        "datos1array=np.array(data1)\n",
        "\n",
        "\n",
        "nube1 = [fila for fila in datos1array if fila[4]== 0]\n",
        "nube1=np.array(nube1)\n",
        "nube1=nube1[:,0:4]\n",
        "nube1;\n",
        "\n",
        "nube2=[fila for fila in datos1array if fila[4]== 1]\n",
        "nube2=np.array(nube2)\n",
        "nube2=nube2[:,0:4]\n",
        "nube2;"
      ],
      "metadata": {
        "id": "zSDYZ6FwwYLO"
      },
      "execution_count": null,
      "outputs": []
    },
    {
      "cell_type": "code",
      "source": [
        "print(\"¿Las envolventes de las nubes de puntos se intersectan?\", clouds_overlap(nube1, nube2))\n"
      ],
      "metadata": {
        "colab": {
          "base_uri": "https://localhost:8080/"
        },
        "id": "E6x7Ot6pyu6a",
        "outputId": "10c6f4ca-84ae-4452-f505-8f58abfc5e57"
      },
      "execution_count": null,
      "outputs": [
        {
          "output_type": "stream",
          "name": "stdout",
          "text": [
            "¿Las envolventes de las nubes de puntos se intersectan? True\n"
          ]
        }
      ]
    },
    {
      "cell_type": "markdown",
      "source": [
        "Con lo anterior vemos que las  envolventes convexas  de las nubes de puntos para las caracteristicas del  primer Dataset  se intersectan, y por tanto el conjunto de datos  $\\textbf{NO  es  Linealmente Separables}$"
      ],
      "metadata": {
        "id": "oUMinCG33Bao"
      }
    },
    {
      "cell_type": "markdown",
      "source": [
        "Ahora haremos los mismo con los datos de entrenamiento del $\\textit{Segundo Dataset}$"
      ],
      "metadata": {
        "id": "YKfamwMaqz2h"
      }
    },
    {
      "cell_type": "code",
      "source": [
        "\n",
        "datos2array=np.array(data21)\n",
        "\n",
        "\n",
        "nube1 = [fila for fila in datos2array if fila[6]== 0]\n",
        "nube1=np.array(nube1)\n",
        "nube1=nube1[:,1:6]\n",
        "nube1;\n",
        "\n",
        "nube2 = [fila for fila in datos2array if fila[6]== 1]\n",
        "nube2=np.array(nube2)\n",
        "nube2=nube2[:,1:6]\n",
        "nube2;"
      ],
      "metadata": {
        "id": "tSsQtsf3q_lS"
      },
      "execution_count": null,
      "outputs": []
    },
    {
      "cell_type": "code",
      "source": [
        "print(\"¿Las envolventes de las nubes de puntos se intersectan?\", clouds_overlap(nube1, nube2))"
      ],
      "metadata": {
        "colab": {
          "base_uri": "https://localhost:8080/"
        },
        "id": "ZcsvdNKnvcbK",
        "outputId": "f76fd96e-437b-415c-e6ba-b4deccaca402"
      },
      "execution_count": null,
      "outputs": [
        {
          "output_type": "stream",
          "name": "stdout",
          "text": [
            "¿Las envolventes de las nubes de puntos se intersectan? True\n"
          ]
        }
      ]
    },
    {
      "cell_type": "markdown",
      "source": [
        "Con lo anterior vemos que las  envolventes convexas  de las nubes de puntos para las caracteristicas del  segundo Dataset  se intersectan, y por tanto el conjunto de datos  $\\textbf{NO es Linealmente Separables}$"
      ],
      "metadata": {
        "id": "-EYZgQ5sv04w"
      }
    },
    {
      "cell_type": "markdown",
      "source": [
        "**b)** ¿Se eligen estos conjuntos de datos al azar?\n",
        "\n",
        "$\\underline{\\textit{Solución}}$\n",
        "\n",
        "La forma en la que se decidio dar respuesta a esta pregunta, es la siguiente:\n",
        "Si los datos se escogen al azar, entonces para dos muestras aleatoras de datos de entranamiento, el porcentage de precisión sobre muestras aleatorias para ambos conjuntos de entrenamiento, deberia ser muy cercano (posiblemente una diferencia menor al  $10\\%$). De esta manera aseguraremos que la muestra de datos que se tomo no  es especial, si no que hace parte del patron que intentamos determinar.\n",
        "\n",
        "Dado que no se puede estrictamente tomar muestras aleatorias, por la dificulatad de generar númeroa aleatorios, nuestro análisis se hara sobre muestras semialeatorias\n"
      ],
      "metadata": {
        "id": "7PZxm7X8_xBw"
      }
    },
    {
      "cell_type": "code",
      "source": [
        "import numpy as np\n",
        "\n",
        "\n",
        "class SVM:\n",
        "\n",
        "    def __init__(self, C = 1.0):\n",
        "        # C = Termino de error\n",
        "        self.C = C\n",
        "        self.w = 0\n",
        "        self.b = 0\n",
        "\n",
        "    # Función de Pérdida / Cálculo\n",
        "    def hingeloss(self, w, b, x, y):\n",
        "        # Termino de Regularización\n",
        "        reg = 0.5 * (w * w)\n",
        "\n",
        "        for i in range(x.shape[0]):\n",
        "            # Termino de Optimización\n",
        "            opt_term = y[i] * ((np.dot(w, x[i])) + b)\n",
        "\n",
        "            # calculando perdida\n",
        "            loss = reg  #self.C * max(0, 1-opt_term)\n",
        "        return loss[0][0]\n",
        "\n",
        "    def fit(self, X, Y, batch_size=100, learning_rate=0.001, epochs=1000):\n",
        "        # Numero de cararcteristicas en X\n",
        "        number_of_features = X.shape[1]\n",
        "\n",
        "        # Numero de ejemplo en X\n",
        "        number_of_samples = X.shape[0]\n",
        "\n",
        "        c = self.C\n",
        "\n",
        "        # Creando ids de 0 a number_of_samples - 1\n",
        "        ids = np.arange(number_of_samples)\n",
        "\n",
        "        # Barajar las muestras al azar\n",
        "        np.random.shuffle(ids)\n",
        "\n",
        "        # creando una matriz de ceros\n",
        "        w = np.zeros((1, number_of_features))\n",
        "        b = 0\n",
        "        losses = []\n",
        "\n",
        "        # Lógica de descenso de gradiente\n",
        "        for i in range(epochs):\n",
        "            # Cálculo de la pérdida de bisagra\n",
        "            l = self.hingeloss(w, b, X, Y)\n",
        "\n",
        "            #Anexando todas las pérdidas\n",
        "            losses.append(l)\n",
        "            \n",
        "            # Starting from 0 to the number of samples with batch_size as interval\n",
        "            for batch_initial in range(0, number_of_samples, batch_size):\n",
        "                gradw = 0\n",
        "                gradb = 0\n",
        "\n",
        "                for j in range(batch_initial, batch_initial+ batch_size):\n",
        "                    if j < number_of_samples:\n",
        "                        x = ids[j]\n",
        "                        ti = Y[x] * (np.dot(w, X[x].T) + b)\n",
        "\n",
        "                        if ti > 1:\n",
        "                            gradw += 0\n",
        "                            gradb += 0\n",
        "                        else:\n",
        "                            # Calculating the gradients\n",
        "\n",
        "                            #w.r.t w \n",
        "                            gradw += c * Y[x] * X[x]\n",
        "                            # w.r.t b\n",
        "                            gradb += c * Y[x]\n",
        "\n",
        "                # Updating weights and bias\n",
        "                w = w - learning_rate * w + learning_rate * gradw\n",
        "                b = b + learning_rate * gradb\n",
        "        \n",
        "        self.w = w\n",
        "        self.b = b\n",
        "\n",
        "        return self.w, self.b, losses\n",
        "\n",
        "    def predict(self, X):\n",
        "        \n",
        "        prediction = np.dot(X, self.w[0]) + self.b # w.x + b\n",
        "        return np.sign(prediction)"
      ],
      "metadata": {
        "id": "jriOANyvsIc7"
      },
      "execution_count": null,
      "outputs": []
    },
    {
      "cell_type": "code",
      "source": [
        "from sklearn import datasets\n",
        "import matplotlib.pyplot as plt\n",
        "import numpy as np\n",
        "from sklearn.metrics import accuracy_score\n",
        "from sklearn.model_selection import train_test_split\n",
        "import random\n",
        "import math \n",
        "\n",
        "\n",
        "\n",
        "\n",
        "\n",
        "X=data1.to_numpy()\n",
        "perc= math.trunc(80*(X.shape[0])/100)  #Porcentaje de datos de entrenamiento (80%)\n",
        "\n",
        "random.seed(6)     #semilla para fijar lista aleatoria\n",
        "Xlistt=X.tolist()     #lista de todos los datos\n",
        "Xtrainlist= random.sample(Xlistt, perc)    #Lista aleatoria del 80% de los datos        \n",
        "Xtestlist= [elem for elem in Xlistt if elem not in Xtrainlist]\n",
        "Xtestarr=np.array(Xtestlist)  #matriz datos de testeo\n",
        "Xtrainarr=np.array(Xtrainlist) #matriz datos de entrenamiento\n",
        "\n",
        "Xtrain=Xtrainarr[:,0:4];   #Caracteristicas de entrenamiento\n",
        "Ytrain=Xtrainarr[:,4:5];     #Etiquetas de enetranamiento\n",
        "Ytrain = np.where(Ytrain == 0, -1, 1);   #Cambiar 0's por -1's\n",
        "\n",
        "Xtest=Xtestarr[:,0:4];   #Caracteristicas de testeo\n",
        "Ytest=Xtestarr[:,4:5];    #Etiquetas de testeo\n",
        "Ytest = np.where(Ytest== 0, -1, 1);"
      ],
      "metadata": {
        "id": "mUe_ju_nSbWd"
      },
      "execution_count": null,
      "outputs": []
    },
    {
      "cell_type": "code",
      "source": [
        "svm = SVM()\n",
        "\n",
        "w, b, losses = svm.fit(Xtrain, Ytrain)\n",
        "\n",
        "prediction = svm.predict(Xtest)\n",
        "\n",
        "# Loss value\n",
        "lss = losses.pop()\n",
        "\n",
        "print(\"Loss:\", lss)\n",
        "print(\"Prediction:\", prediction)\n",
        "print(\"Accuracy:\", accuracy_score(prediction, Ytest))\n",
        "print(\"w, b:\", [w, b])"
      ],
      "metadata": {
        "colab": {
          "base_uri": "https://localhost:8080/"
        },
        "id": "uUM5z6DpVvPI",
        "outputId": "e6bc6f8b-c1d7-433c-c7b5-4c799bc9be07"
      },
      "execution_count": null,
      "outputs": [
        {
          "output_type": "stream",
          "name": "stdout",
          "text": [
            "Loss: 0.4927466357089221\n",
            "Prediction: [-1. -1. -1. -1. -1. -1. -1. -1. -1. -1. -1. -1. -1. -1. -1. -1. -1. -1.\n",
            " -1. -1. -1. -1. -1. -1. -1. -1. -1. -1. -1. -1. -1. -1. -1. -1. -1. -1.\n",
            " -1. -1. -1. -1. -1. -1. -1. -1. -1. -1. -1. -1. -1. -1. -1. -1. -1. -1.\n",
            " -1. -1. -1. -1. -1. -1. -1. -1. -1. -1. -1. -1. -1. -1. -1. -1. -1. -1.\n",
            " -1. -1. -1. -1. -1. -1. -1. -1. -1. -1. -1. -1. -1. -1. -1. -1. -1. -1.\n",
            " -1. -1. -1. -1. -1. -1. -1. -1. -1. -1. -1. -1. -1. -1. -1. -1. -1. -1.\n",
            " -1. -1. -1. -1. -1. -1. -1. -1. -1. -1. -1. -1. -1. -1. -1. -1. -1. -1.\n",
            " -1. -1. -1. -1. -1. -1. -1. -1. -1. -1. -1. -1. -1. -1. -1. -1. -1. -1.\n",
            "  1. -1. -1. -1. -1.  1.  1.  1.  1.  1.  1.  1.  1.  1.  1.  1.  1.  1.\n",
            "  1.  1.  1.  1.  1.  1.  1.  1.  1.  1.  1.  1.  1.  1.  1.  1.  1.  1.\n",
            "  1.  1.  1.  1.  1.  1.  1.  1.  1.  1.  1.  1.  1.  1.  1.  1.  1.  1.\n",
            "  1.  1.  1.  1.  1.  1.  1.  1.  1.  1.  1.  1.  1.  1.  1.  1.  1.  1.\n",
            "  1.  1.  1.  1.  1.  1.  1.  1.  1.  1.  1.  1.  1.  1.  1.  1.  1.  1.\n",
            "  1.  1.  1.  1.  1.  1.  1.  1.  1.  1.  1.  1.  1.  1.  1.  1.  1.  1.\n",
            "  1.  1.  1.  1.  1.  1.  1.  1.  1.  1.  1.  1.  1.  1.  1.  1.]\n",
            "Accuracy: 0.996268656716418\n",
            "w, b: [array([[-0.997199  , -0.66351788, -0.77250854, -0.02413883]]), array([1.473])]\n"
          ]
        }
      ]
    },
    {
      "cell_type": "markdown",
      "source": [
        "Ahora probemos con una nueva muestra aleatoria de datos "
      ],
      "metadata": {
        "id": "U6UyrAhGV2kg"
      }
    },
    {
      "cell_type": "code",
      "source": [
        "\n",
        "X=data1.to_numpy()\n",
        "perc= math.trunc(80*(X.shape[0])/100)  #Porcentaje de datos de entrenamiento (80%)\n",
        "\n",
        "random.seed(14)     #semilla para fijar lista aleatoria\n",
        "Xlistt=X.tolist()     #lista de todos los datos\n",
        "Xtrainlist= random.sample(Xlistt, perc)    #Lista aleatoria del 80% de los datos        \n",
        "Xtestlist= [elem for elem in Xlistt if elem not in Xtrainlist]\n",
        "Xtestarr=np.array(Xtestlist)  #matriz datos de testeo\n",
        "Xtrainarr=np.array(Xtrainlist) #matriz datos de entrenamiento\n",
        "\n",
        "Xtrain=Xtrainarr[:,0:4];   #Caracteristicas de entrenamiento\n",
        "Ytrain=Xtrainarr[:,4:5];     #Etiquetas de enetranamiento\n",
        "Ytrain = np.where(Ytrain == 0, -1, 1);   #Cambiar 0's por -1's\n",
        "\n",
        "Xtest=Xtestarr[:,0:4];   #Caracteristicas de testeo\n",
        "Ytest=Xtestarr[:,4:5];    #Etiquetas de testeo\n",
        "Ytest = np.where(Ytest== 0, -1, 1);"
      ],
      "metadata": {
        "id": "XOJ9qWljWDBR"
      },
      "execution_count": null,
      "outputs": []
    },
    {
      "cell_type": "code",
      "source": [
        "svm = SVM()\n",
        "\n",
        "w, b, losses = svm.fit(Xtrain, Ytrain)\n",
        "\n",
        "prediction = svm.predict(Xtest)\n",
        "\n",
        "# Loss value\n",
        "lss = losses.pop()\n",
        "\n",
        "print(\"Loss:\", lss)\n",
        "print(\"Prediction:\", prediction)\n",
        "print(\"Accuracy:\", accuracy_score(prediction, Ytest))\n",
        "print(\"w, b:\", [w, b])"
      ],
      "metadata": {
        "colab": {
          "base_uri": "https://localhost:8080/"
        },
        "id": "Z42P2c4IWNJf",
        "outputId": "f3ca1c00-ab77-4702-c88e-cde59f623206"
      },
      "execution_count": null,
      "outputs": [
        {
          "output_type": "stream",
          "name": "stdout",
          "text": [
            "Loss: 0.5365295713432564\n",
            "Prediction: [ 1. -1. -1. -1. -1. -1. -1. -1. -1. -1. -1. -1. -1. -1. -1. -1. -1. -1.\n",
            " -1. -1. -1. -1. -1. -1. -1. -1. -1. -1. -1. -1. -1. -1. -1. -1. -1. -1.\n",
            " -1. -1. -1. -1. -1. -1. -1. -1. -1. -1. -1. -1. -1. -1. -1. -1. -1. -1.\n",
            " -1. -1. -1. -1. -1. -1. -1. -1. -1. -1. -1. -1. -1. -1. -1. -1. -1. -1.\n",
            " -1. -1. -1. -1. -1. -1. -1. -1. -1. -1. -1. -1. -1. -1. -1. -1. -1. -1.\n",
            " -1. -1. -1. -1. -1. -1. -1. -1. -1. -1. -1. -1. -1. -1. -1. -1. -1. -1.\n",
            " -1. -1. -1. -1. -1. -1. -1. -1. -1. -1. -1. -1. -1. -1. -1. -1. -1. -1.\n",
            " -1. -1. -1. -1. -1. -1. -1. -1. -1. -1. -1. -1. -1. -1. -1. -1. -1. -1.\n",
            " -1. -1. -1.  1.  1.  1.  1.  1.  1.  1.  1.  1.  1.  1.  1.  1.  1.  1.\n",
            "  1.  1.  1.  1.  1.  1.  1.  1.  1.  1.  1.  1.  1.  1.  1.  1.  1.  1.\n",
            "  1.  1. -1.  1.  1.  1.  1.  1.  1.  1.  1.  1.  1.  1.  1.  1.  1.  1.\n",
            "  1.  1.  1.  1.  1.  1.  1.  1.  1.  1.  1.  1.  1.  1.  1.  1.  1.  1.\n",
            "  1.  1.  1.  1.  1.  1.  1.  1.  1.  1.  1.  1.  1.  1.  1.  1.  1.  1.\n",
            "  1.  1.  1.  1.  1.  1.  1.  1.  1.  1.  1.  1.  1.  1.  1.  1.  1.  1.\n",
            "  1.  1.  1.  1.  1.  1.  1.  1.  1.  1.  1.  1.  1.  1.  1.  1.  1.  1.\n",
            "  1.]\n",
            "Accuracy: 0.992619926199262\n",
            "w, b: [array([[-1.03474139, -0.6977574 , -0.72772717, -0.04164034]]), array([1.42])]\n"
          ]
        }
      ]
    },
    {
      "cell_type": "markdown",
      "source": [
        "Con lo anterior vemos que para dos semillas aleatorias (pseudoaleatorias)($\\texttt{random.seed(6)}$ y $\\texttt{random.seed(14)}$ ) vemos que  el porcentage de presición es para dos muestras de testeo aleatorias (pseudoaleatorias) muy cercano, en este caso la diferencia en la presición es del $$|1- 0.996309963099631|=0.0036900369003689537<10\\%$$"
      ],
      "metadata": {
        "id": "LHc_JiktWj8A"
      }
    },
    {
      "cell_type": "markdown",
      "source": [
        "Ahora hagamos los mismo con el $\\textit{Segundo Dataset}$"
      ],
      "metadata": {
        "id": "fN9QyteIwHF4"
      }
    },
    {
      "cell_type": "code",
      "source": [
        "X=data21.to_numpy()\n",
        "X=X[:,1:7]\n",
        "perc= math.trunc(10*(X.shape[0])/100)  #Porcentaje de datos de entrenamiento (20%)\n",
        "\n",
        "random.seed(6)     #semilla para fijar lista aleatoria\n",
        "Xlistt=X.tolist()     #lista de todos los datos\n",
        "Xtrainlist= random.sample(Xlistt, perc)    #Lista aleatoria del 80% de los datos        \n",
        "Xtestlist= [elem for elem in Xlistt if elem not in Xtrainlist]  #Lista de testeo de los datos\n",
        "Xtestarr=np.array(Xtestlist)  #matriz datos de testeo\n",
        "Xtrainarr=np.array(Xtrainlist) #matriz datos de entrenamiento\n",
        "\n",
        "Xtrain=Xtrainarr[:,0:5];   #Caracteristicas de entrenamiento\n",
        "Ytrain=Xtrainarr[:,5:6];     #Etiquetas de enetranamiento\n",
        "Ytrain = np.where(Ytrain == 0, -1, 1);   #Cambiar 0's por -1's\n",
        "\n",
        "Xtest=Xtestarr[:,0:5];   #Caracteristicas de testeo\n",
        "Ytest=Xtestarr[:,5:6];    #Etiquetas de testeo\n",
        "Ytest = np.where(Ytest== 0, -1, 1);"
      ],
      "metadata": {
        "id": "n1RzBPbZwQ4A"
      },
      "execution_count": null,
      "outputs": []
    },
    {
      "cell_type": "code",
      "source": [
        "svm = SVM()\n",
        "\n",
        "w, b, losses = svm.fit(Xtrain, Ytrain)\n",
        "\n",
        "prediction = svm.predict(Xtest)\n",
        "\n",
        "# Loss value\n",
        "lss = losses.pop()\n",
        "\n",
        "print(\"Loss:\", lss)\n",
        "print(\"Prediction:\", prediction)\n",
        "print(\"Accuracy:\", accuracy_score(prediction, Ytest))\n",
        "print(\"w, b:\", [w, b])"
      ],
      "metadata": {
        "colab": {
          "base_uri": "https://localhost:8080/"
        },
        "id": "HgjNKmr2xeqY",
        "outputId": "c05bece2-9201-4d6f-e42f-68f0518bad29"
      },
      "execution_count": null,
      "outputs": [
        {
          "output_type": "stream",
          "name": "stdout",
          "text": [
            "Loss: 6056.273031582041\n",
            "Prediction: [1. 1. 1. ... 1. 1. 1.]\n",
            "Accuracy: 0.9496200394033212\n",
            "w, b: [array([[-1.10337377e+02, -9.16328702e+01,  3.45284756e+01,\n",
            "        -3.59075692e+00, -1.31728156e-02]]), array([-49.599])]\n"
          ]
        }
      ]
    },
    {
      "cell_type": "markdown",
      "source": [
        "Ahora tomemos otra muestra y probemos si  el porcentaje de presicion es cercano ($<10\\%$)"
      ],
      "metadata": {
        "id": "me5k6XMPykjC"
      }
    },
    {
      "cell_type": "code",
      "source": [
        "X=data21.to_numpy()\n",
        "X=X[:,1:7]\n",
        "perc= math.trunc(10*(X.shape[0])/100)  #Porcentaje de datos de entrenamiento (20%)\n",
        "\n",
        "random.seed(16)     #semilla para fijar lista aleatoria\n",
        "Xlistt=X.tolist()     #lista de todos los datos\n",
        "Xtrainlist= random.sample(Xlistt, perc)    #Lista aleatoria del 80% de los datos        \n",
        "Xtestlist= [elem for elem in Xlistt if elem not in Xtrainlist]  #Lista de testeo de los datos\n",
        "Xtestarr=np.array(Xtestlist)  #matriz datos de testeo\n",
        "Xtrainarr=np.array(Xtrainlist) #matriz datos de entrenamiento\n",
        "\n",
        "Xtrain=Xtrainarr[:,0:5];   #Caracteristicas de entrenamiento\n",
        "Ytrain=Xtrainarr[:,5:6];     #Etiquetas de enetranamiento\n",
        "Ytrain = np.where(Ytrain == 0, -1, 1);   #Cambiar 0's por -1's\n",
        "\n",
        "Xtest=Xtestarr[:,0:5];   #Caracteristicas de testeo\n",
        "Ytest=Xtestarr[:,5:6];    #Etiquetas de testeo\n",
        "Ytest = np.where(Ytest== 0, -1, 1);"
      ],
      "metadata": {
        "id": "Lvn5hUd-yzVA"
      },
      "execution_count": null,
      "outputs": []
    },
    {
      "cell_type": "code",
      "source": [
        "svm = SVM()\n",
        "\n",
        "w, b, losses = svm.fit(Xtrain, Ytrain)\n",
        "\n",
        "prediction = svm.predict(Xtest)\n",
        "\n",
        "# Loss value\n",
        "lss = losses.pop()\n",
        "\n",
        "print(\"Loss:\", lss)\n",
        "print(\"Prediction:\", prediction)\n",
        "print(\"Accuracy:\", accuracy_score(prediction, Ytest))\n",
        "print(\"w, b:\", [w, b])"
      ],
      "metadata": {
        "colab": {
          "base_uri": "https://localhost:8080/"
        },
        "id": "NJSRMP3uy4Sg",
        "outputId": "2eab68f6-2b98-4fa0-da75-fafd4c6bef49"
      },
      "execution_count": null,
      "outputs": [
        {
          "output_type": "stream",
          "name": "stdout",
          "text": [
            "Loss: 3169.048384915175\n",
            "Prediction: [1. 1. 1. ... 1. 1. 1.]\n",
            "Accuracy: 0.8879043600562588\n",
            "w, b: [array([[-7.93369082e+01, -6.84177912e+01,  2.55969172e+01,\n",
            "         4.31101425e+00, -1.00302154e-02]]), array([-35.312])]\n"
          ]
        }
      ]
    },
    {
      "cell_type": "markdown",
      "source": [
        "Con lo anterior vemos que para dos semillas aleatorias (pseudoaleatorias)($\\texttt{random.seed(6)}$ y $\\texttt{random.seed(16)}$ ) vemos que  el porcentage de presición es para dos muestras de testeo aleatorias (pseudoaleatorias) muy cercano, en este caso la diferencia en la presición es del $$|0.9324514494793132-0.8704641350210971|=0.06198731445821615<10\\%$$\n",
        "\n"
      ],
      "metadata": {
        "id": "wgy3FFrJzNCo"
      }
    },
    {
      "cell_type": "markdown",
      "source": [
        "**c)** El tamaño de la muestra es suficiente para garantizar la generalización."
      ],
      "metadata": {
        "id": "sRuZjvRu_3xg"
      }
    },
    {
      "cell_type": "markdown",
      "source": [
        "$\\underline{\\textit{Solución}}$\n",
        "\n",
        "Para dar respuesta a esta pregunta, debemos dar un parametro que nos diga cuando un modelo para nosotros geneneraliza, Dado que en los problemas no se especifica que tanta precisión se espera sobre muestras nuevas, considerare que una buena medida para decir que realmente el modelo predice es $80\\%$ de presición, para una muestra aleatoria de datos de testeo  que contenga  de $30$  a $60\\%$ de la cantidad de datos de entrenamiento"
      ],
      "metadata": {
        "id": "JbixZGFmWfb6"
      }
    },
    {
      "cell_type": "code",
      "source": [
        "X=data1.to_numpy()\n",
        "perc= math.trunc(70*(X.shape[0])/100)  #Porcentaje de datos de entrenamiento (70%), con este porcentaje obtenemos 970 datos de entremaniemto y los restantes 412\n",
        "                                       #datos corresponden al 43% de los datos de entrenamiento.\n",
        "random.seed(16)     #semilla para fijar lista aleatoria\n",
        "Xlistt=X.tolist()     #lista de todos los datos\n",
        "Xtrainlist= random.sample(Xlistt, perc)    #Lista aleatoria del 70% de los datos        \n",
        "Xtestlist= [elem for elem in Xlistt if elem not in Xtrainlist] #lista de los elementos con los cuales se hara testeo  \n",
        "Xtestarr=np.array(Xtestlist)  #matriz datos de testeo\n",
        "Xtrainarr=np.array(Xtrainlist) #matriz datos de entrenamiento\n",
        "\n",
        "Xtrain=Xtrainarr[:,0:4];   #Caracteristicas de entrenamiento\n",
        "Ytrain=Xtrainarr[:,4:5];     #Etiquetas de enetranamiento\n",
        "Ytrain = np.where(Ytrain == 0, -1, 1);   #Cambiar 0's por -1's\n",
        "\n",
        "Xtest=Xtestarr[:,0:4];   #Caracteristicas de testeo\n",
        "Ytest=Xtestarr[:,4:5];    #Etiquetas de testeo\n",
        "Ytest = np.where(Ytest== 0, -1, 1);"
      ],
      "metadata": {
        "id": "UTKmpNVkZeMc"
      },
      "execution_count": null,
      "outputs": []
    },
    {
      "cell_type": "code",
      "source": [
        "svm = SVM()\n",
        "\n",
        "w, b, losses = svm.fit(Xtrain, Ytrain)\n",
        "\n",
        "prediction = svm.predict(Xtest)\n",
        "\n",
        "# Loss value\n",
        "lss = losses.pop()\n",
        "\n",
        "print(\"Loss:\", lss)\n",
        "print(\"Prediction:\", prediction)\n",
        "print(\"Accuracy:\", accuracy_score(prediction, Ytest))\n",
        "print(\"w, b:\", [w, b])"
      ],
      "metadata": {
        "colab": {
          "base_uri": "https://localhost:8080/"
        },
        "id": "P5uYlUMladjE",
        "outputId": "195489f5-9080-4012-e6e5-3e78c8e48419"
      },
      "execution_count": null,
      "outputs": [
        {
          "output_type": "stream",
          "name": "stdout",
          "text": [
            "Loss: 0.554820019752295\n",
            "Prediction: [-1. -1. -1. -1. -1. -1. -1. -1. -1. -1. -1. -1. -1. -1. -1. -1. -1. -1.\n",
            " -1. -1. -1. -1. -1. -1. -1. -1. -1. -1. -1. -1. -1. -1. -1. -1. -1. -1.\n",
            " -1. -1. -1. -1. -1. -1. -1. -1. -1. -1. -1. -1. -1. -1. -1. -1. -1. -1.\n",
            " -1. -1. -1. -1. -1. -1. -1. -1. -1. -1. -1. -1. -1. -1. -1. -1. -1. -1.\n",
            " -1. -1. -1. -1. -1. -1. -1. -1. -1. -1. -1. -1. -1. -1. -1. -1. -1. -1.\n",
            " -1. -1. -1. -1. -1. -1. -1. -1. -1. -1. -1. -1. -1. -1. -1. -1. -1. -1.\n",
            " -1. -1. -1. -1. -1. -1. -1. -1. -1. -1. -1. -1. -1. -1. -1. -1. -1. -1.\n",
            " -1. -1. -1. -1. -1. -1. -1. -1. -1. -1. -1. -1. -1. -1. -1. -1. -1. -1.\n",
            " -1. -1. -1. -1. -1. -1. -1. -1. -1. -1. -1. -1. -1. -1. -1. -1. -1. -1.\n",
            " -1. -1. -1. -1. -1. -1. -1. -1. -1. -1. -1. -1. -1. -1. -1. -1. -1. -1.\n",
            " -1. -1. -1. -1. -1. -1. -1.  1. -1. -1. -1. -1. -1. -1. -1. -1. -1. -1.\n",
            " -1. -1. -1. -1. -1. -1. -1. -1. -1. -1. -1. -1. -1. -1. -1. -1. -1. -1.\n",
            " -1. -1. -1.  1.  1.  1.  1.  1.  1.  1.  1.  1.  1.  1.  1.  1.  1.  1.\n",
            "  1.  1.  1.  1.  1.  1.  1.  1.  1.  1.  1.  1.  1.  1.  1.  1.  1.  1.\n",
            "  1.  1.  1.  1.  1.  1.  1.  1.  1.  1.  1.  1.  1.  1.  1.  1.  1.  1.\n",
            "  1.  1.  1.  1.  1.  1.  1.  1.  1.  1.  1.  1.  1.  1.  1.  1.  1.  1.\n",
            "  1.  1.  1.  1.  1.  1.  1.  1.  1.  1.  1.  1.  1.  1.  1.  1.  1.  1.\n",
            "  1.  1.  1.  1.  1.  1.  1.  1.  1.  1.  1.  1.  1.  1.  1.  1.  1.  1.\n",
            "  1.  1.  1.  1. -1.  1.  1.  1.  1.  1.  1.  1.  1.  1.  1.  1.  1.  1.\n",
            "  1.  1.  1.  1.  1.  1.  1.  1.  1.  1.  1.  1.  1.  1.  1.  1.  1.  1.\n",
            "  1.  1.  1.  1.  1.  1.  1.  1.  1.  1.  1.  1.  1.  1.  1.  1.  1.  1.\n",
            "  1.  1.  1.  1.  1.  1.  1.  1.  1.  1.  1.  1.  1.  1.  1.  1.  1.  1.\n",
            "  1.  1.  1.  1.  1.  1.  1.  1.]\n",
            "Accuracy: 0.995049504950495\n",
            "w, b: [array([[-1.05417634, -0.68481756, -0.76910659, -0.01210507]]), array([1.427])]\n"
          ]
        }
      ]
    },
    {
      "cell_type": "markdown",
      "source": [
        "Dado que el porcentage de presición para esta muestra aleatoria (pseudoaleatoria) con semilla $\\texttt{random.seed(16)} $, es mayor al parametro propuesto ($80\\%$), entonces podemos asegurar que el tamaño de la muestra es suficiente para generalizar"
      ],
      "metadata": {
        "id": "0grEm3wMd84H"
      }
    },
    {
      "cell_type": "markdown",
      "source": [
        "Ahora veamos si el tamaño del $\\textit{Segundo dataset}$ es suficiente para garantizar generalización, para ello tomaremos los mismo parametros que en elanterior dataset"
      ],
      "metadata": {
        "id": "dn_byTJ_E4tw"
      }
    },
    {
      "cell_type": "code",
      "source": [
        "X=data21.to_numpy()\n",
        "X=X[:,1:7]\n",
        "perc= math.trunc(20*(X.shape[0])/100)  #Porcentaje de datos de entrenamiento (20%). \n",
        "random.seed(16)     #semilla para fijar lista aleatoria\n",
        "Xlistt=X.tolist()     #lista de todos los datos\n",
        "Xtrainlist= random.sample(Xlistt, perc)    #Lista aleatoria del 20% de los datos        \n",
        "Xtestlist= [elem for elem in Xlistt if elem not in Xtrainlist] #lista de los elementos con los cuales se hara testeo  \n",
        "Xtestarr=np.array(Xtestlist)  #matriz datos de testeo\n",
        "Xtrainarr=np.array(Xtrainlist) #matriz datos de entrenamiento\n",
        "\n",
        "Xtrain=Xtrainarr[:,0:5];   #Caracteristicas de entrenamiento\n",
        "Ytrain=Xtrainarr[:,5:6];     #Etiquetas de enetranamiento\n",
        "Ytrain = np.where(Ytrain == 0, -1, 1);   #Cambiar 0's por -1's\n",
        "\n",
        "Xtest=Xtestarr[:,0:5];   #Caracteristicas de testeo\n",
        "Ytest=Xtestarr[:,5:6];    #Etiquetas de testeo\n",
        "Ytest = np.where(Ytest== 0, -1, 1);"
      ],
      "metadata": {
        "id": "qPZwndZTEzlw"
      },
      "execution_count": null,
      "outputs": []
    },
    {
      "cell_type": "code",
      "source": [
        "svm = SVM()\n",
        "\n",
        "w, b, losses = svm.fit(Xtrain, Ytrain)\n",
        "\n",
        "prediction = svm.predict(Xtest)\n",
        "\n",
        "# Loss value\n",
        "lss = losses.pop()\n",
        "\n",
        "print(\"Loss:\", lss)\n",
        "print(\"Prediction:\", prediction)\n",
        "print(\"Accuracy:\", accuracy_score(prediction, Ytest))\n",
        "print(\"w, b:\", [w, b])"
      ],
      "metadata": {
        "colab": {
          "base_uri": "https://localhost:8080/"
        },
        "id": "_r4KHJJbGhtn",
        "outputId": "70165c59-7031-4e95-cb34-66f89c00cf86"
      },
      "execution_count": null,
      "outputs": [
        {
          "output_type": "stream",
          "name": "stdout",
          "text": [
            "Loss: 5194.352315086009\n",
            "Prediction: [1. 1. 1. ... 1. 1. 1.]\n",
            "Accuracy: 0.9486970684039088\n",
            "w, b: [array([[-1.02009543e+02, -8.61757709e+01,  2.36054955e+01,\n",
            "        -4.18764427e-01, -1.25305190e-02]]), array([-85.253])]\n"
          ]
        }
      ]
    },
    {
      "cell_type": "markdown",
      "source": [
        "Dado que el porcentage de presición para esta muestra aleatoria (pseudoaleatoria) con semilla $\\texttt{random.seed(16)} $, es mayor al parametro propuesto ($80\\%$), entonces podemos asegurar que el tamaño de la muestra es suficiente para generalizar, de hecho el tamaño es muy grande, pues tan solo con el $20\\%$ de los datos totales pudimos generalizar con satisfacción."
      ],
      "metadata": {
        "id": "OMvLqWrWHHwy"
      }
    },
    {
      "cell_type": "markdown",
      "source": [
        "### **4)**   Proporcione una explicación de cómo y por qué funciona el código. Puede agregar comentarios y/o explicaciones formales en el cuaderno."
      ],
      "metadata": {
        "id": "OwvMnL_g2wfp"
      }
    },
    {
      "cell_type": "markdown",
      "source": [
        "$\\underline{\\textit {Solución}}$\n",
        "\n",
        "Acontinuación se muestra el código con las explicaciones de cada definicion de la clase."
      ],
      "metadata": {
        "id": "JJhzPBvX-PPc"
      }
    },
    {
      "cell_type": "code",
      "source": [
        "# https://pythonprogramming.net/svm-optimization-python-2-machine-learning-tutorial/?completed=/svm-optimization-python-machine-learning-tutorial/\n",
        "import matplotlib.pyplot as plt\n",
        "from matplotlib import style\n",
        "import numpy as np\n",
        "import pandas as pd\n",
        "\n",
        "style.use('ggplot')\n",
        "\n",
        "class Support_Vector_Machine:\n",
        "    def __init__(self, visualization=True):\n",
        "        self.visualization = visualization\n",
        "        self.colors = {1:'r',-1:'b'}\n",
        "        if self.visualization:\n",
        "            self.fig = plt.figure()\n",
        "            self.ax = self.fig.add_subplot(1,1,1)\n",
        "    # train\n",
        "    def fit(self, data):\n",
        "        # La subclase llama los datos para utilizarlos\n",
        "        self.data = data\n",
        "        # { ||w||: [w,b] }\n",
        "        # El diccionario va a almacenar las parejas [w,b] etiquetadas por la norma de w (||w||) tales que satisfagan que yi(xi.w+b) >= 1\n",
        "        \n",
        "        opt_dict = {}\n",
        "\n",
        "        # El vector de vectores llamado transforms va a ser utilizado para evaluar todas las posibles direcciones que puede tomar un vector w dado. De esta manera, se\n",
        "        # examinan todas las posibles lineas determinadas por un vector de entrada w.\n",
        "        transforms = [[1,1],\n",
        "                      [-1,1],\n",
        "                      [-1,-1],\n",
        "                      [1,-1]]\n",
        "\n",
        "        # Se crea temporalmente un arreglo para buscar el número máximo entre todos los datos para usar este valor como un parametro que determine los rangos de operación\n",
        "        # de todo el programa, así como para fijar cual va a ser el vector w inicial en el programa.\n",
        "        all_data = []\n",
        "        for yi in self.data:\n",
        "            for featureset in self.data[yi]:\n",
        "                for feature in featureset:\n",
        "                    all_data.append(feature)\n",
        "        \n",
        "        # Se determina cual es el valor más pequeño y más grande de todos los datos y despues se vacia el arreglo \"all_data\" para no ocupar una gran cantidad de memoria.\n",
        "        self.max_feature_value = max(all_data)\n",
        "        self.min_feature_value = min(all_data)\n",
        "        all_data = None\n",
        "\n",
        "        # support vectors yi(xi.w+b) = 1\n",
        "        \n",
        "        # En esta parte se establecen los pasos en los cuales se va a ir variando el vector w para el proceso de optimización.\n",
        "        # Inicialmente se dan pasos \"grandes\" hasta llegar a un punto en donde el vector w(i+1) supere al vector w(i) y despues se sigue la iteración con los pasos más pequeños.\n",
        "\n",
        "        # Esta estrategia de usar pasos que varien el vector w es funcional porque el problema de minimizar la norma de w es un problema de optimización convexa en el cual se sabe\n",
        "        # que existe un mínimo global de la función\n",
        "        step_sizes = [self.max_feature_value * 0.1,\n",
        "                      self.max_feature_value * 0.01,\n",
        "                      # point of expense:\n",
        "                      self.max_feature_value * 0.001,]\n",
        "\n",
        "        \n",
        "        \n",
        "        # extremely expensive\n",
        "\n",
        "        # En esta parte se establecen las variables que definiran el rango donde variará el escalar b para determinar si cierta escogencia de w \n",
        "        # cumple que yi(xi.w+b) >= 1 para todos los datos.\n",
        "\n",
        "        b_range_multiple = 5\n",
        "        # we dont need to take as small of steps\n",
        "        # with b as we do w\n",
        "\n",
        "        # Aquí no es necesario tener la misma precisión de la escogencia de b a diferencia de como se escoge w puesto que el valor de b no tiene muchas restricciones \n",
        "        # en la condición yi(xi.w+b) >= 1 lo cual permite ahorrar tiempo de computo. Sin embargo, se desea en la medida de lo posible que para los datos de entrenamiento\n",
        "        # los valores de b esten sujetos a la condición de frontera yi(xi.w+b) = 1\n",
        "        b_multiple = 5\n",
        "        latest_optimum = self.max_feature_value*10 #Este valor sera el que determinara todas las componentes del vector w inicial y en las iteraciones posteriores se ira cambiando\n",
        "\n",
        "        for step in step_sizes:\n",
        "            w = np.array([latest_optimum,latest_optimum])\n",
        "            # we can do this because convex\n",
        "            # Esta escogencia permite ahorrar tiempo de computo y es razonable puesto que el problema es de optimización convexa.\n",
        "            optimized = False\n",
        "            while not optimized:\n",
        "                for b in np.arange(-1*(self.max_feature_value*b_range_multiple),\n",
        "                                   self.max_feature_value*b_range_multiple,\n",
        "                                   step*b_multiple):\n",
        "                  # En esta parte del código se evalua para cada w los posibles b que puedan satisfacer la restricción yi(xi.w+b) >= 1\n",
        "\n",
        "                    for transformation in transforms:\n",
        "                        w_t = w*transformation\n",
        "                        # Aquí se evalua cada una de las posibles direcciones que puede tomar w\n",
        "                        found_option = True\n",
        "                        # weakest link in the SVM fundamentally\n",
        "                        # SMO attempts to fix this a bit\n",
        "                        # yi(xi.w+b) >= 1\n",
        "                        # \n",
        "                        # #### add a break here later..\n",
        "                        for i in self.data:\n",
        "                            for xi in self.data[i]:\n",
        "                                yi=i\n",
        "                                # Verifiy constraints\n",
        "                                # En esta parte se determina si la escogencia particular de w y b satisfacen la restricción yi(xi.w+b) >= 1\n",
        "                                if not yi*(np.dot(w_t,xi)+b) >= 1:\n",
        "                                    found_option = False\n",
        "                                    \n",
        "                        if found_option:\n",
        "                            # Computes norm\n",
        "                            # Una vez encontrada una pareja [w,b] para la cual se satisface la restricción yi(xi.w+b) >= 1, se procede a guardarla en un diccionario\n",
        "                            # etiquetado por la norma de w para despues poder hacer la busqueda y escoger el w con norma más pequeña\n",
        "                            opt_dict[np.linalg.norm(w_t)] = [w_t,b]\n",
        "\n",
        "                # En esta parte se determina cuando el programa llega al final de aplicar la serie de pasos mirando cuando la primera componente del vector w cambia de signo\n",
        "                # en este caso no importa que componente se mira, porque todas estan definidas igual.\n",
        "                if w[0] < 0:\n",
        "                    optimized = True\n",
        "                    print('Optimized a step.')\n",
        "                else:\n",
        "                    w = w - step\n",
        "\n",
        "            # En esta última parte se ordena el diccionario \"opt_dict\" de tal forma que la primera entrada sea el [w,b] donde w tiene la menor norma (min||w||)\n",
        "            # y apartir de ahí escoger el nuevo w que va ir cambiando con pasos más pequeños y así ir mejorando la escogencia de w.\n",
        "            norms = sorted([n for n in opt_dict])\n",
        "            #||w|| : [w,b]\n",
        "            opt_choice = opt_dict[norms[0]]\n",
        "            self.w = opt_choice[0]\n",
        "            self.b = opt_choice[1]\n",
        "            latest_optimum = opt_choice[0][0]+step*2\n",
        "            \n",
        "    # En esta parte se desarrolla la predicción para un conjunto de datos de prueba. Para hacer la clasificación se mira la función sign( x.w+b )\n",
        "    def predict(self,features):\n",
        "        # sign( x.w+b )\n",
        "        classification = np.sign(np.dot(np.array(features),self.w)+self.b)\n",
        "        return classification\n",
        "        \n",
        "# Este es el diccionario que contiene todos los datos de entrenamiento, clasificados por -1 si no tiene la caracteristica en estudio y 1 si tiene la caracteristica en estudio      \n",
        "data_dict = {-1:np.array([[1,7],\n",
        "                          [2,8],\n",
        "                          [3,8],]),\n",
        "             \n",
        "             1:np.array([[5,1],\n",
        "                         [6,-1],\n",
        "                         [7,3],])}\n",
        "\n",
        "# Aquí se llama a la clase Support_Vector_Machine() como svm1\n",
        "svm1 = Support_Vector_Machine()\n",
        "\n",
        "# Aquí se ejecuta la subclase de entrenamiento de la clase svm1 usando los datos de entrenamiento definidos en el diccionario \"data_dict\"\n",
        "svm1.fit(data_dict)"
      ],
      "metadata": {
        "colab": {
          "base_uri": "https://localhost:8080/",
          "height": 321
        },
        "id": "s0hVuPYz90Bp",
        "outputId": "00dd995a-612f-4245-c10d-2b7559d12751"
      },
      "execution_count": null,
      "outputs": [
        {
          "output_type": "stream",
          "name": "stdout",
          "text": [
            "Optimized a step.\n",
            "Optimized a step.\n",
            "Optimized a step.\n"
          ]
        },
        {
          "output_type": "display_data",
          "data": {
            "text/plain": [
              "<Figure size 432x288 with 1 Axes>"
            ],
            "image/png": "[encoded data removed]"
          },
          "metadata": {}
        }
      ]
    },
    {
      "cell_type": "markdown",
      "source": [
        "### **5)** Muestre algunos ejemplos para ilustrar que el método está funcionando correctamente."
      ],
      "metadata": {
        "id": "EctAj5w22wNp"
      }
    },
    {
      "cell_type": "markdown",
      "source": [
        "$\\underline{\\textit {Solución}}$\n",
        "\n",
        "\n",
        "El primer ejemplo que utlizaremos es el de entranar el algoritmo  con los siguientes datos: \n",
        "\n",
        "$$A_1=[1,7],A_2=[2,8],A_3=[3,8]\\hspace{6mm} R_1=[5,1],R_2=[6,-1],R_3=[7,3]$$"
      ],
      "metadata": {
        "id": "UcuL5pBD-n1J"
      }
    },
    {
      "cell_type": "code",
      "source": [
        "import matplotlib.pyplot as plt\n",
        "from matplotlib import style\n",
        "import numpy as np\n",
        "style.use('ggplot')\n",
        "\n",
        "class Support_Vector_Machine:\n",
        "    def __init__(self, visualization=True):\n",
        "        self.visualization = visualization\n",
        "        self.colors = {1:'r',-1:'b'}\n",
        "        if self.visualization:\n",
        "            self.fig = plt.figure()\n",
        "            self.ax = self.fig.add_subplot(1,1,1)\n",
        "    # train\n",
        "    def fit(self, data):\n",
        "        self.data = data\n",
        "        # { ||w||: [w,b] }\n",
        "        opt_dict = {}\n",
        "\n",
        "        transforms = [[1,1],\n",
        "                      [-1,1],\n",
        "                      [-1,-1],\n",
        "                      [1,-1]]\n",
        "\n",
        "        all_data = []\n",
        "        for yi in self.data:\n",
        "            for featureset in self.data[yi]:\n",
        "                for feature in featureset:\n",
        "                    all_data.append(feature)\n",
        "\n",
        "        self.max_feature_value = max(all_data)\n",
        "        self.min_feature_value = min(all_data)\n",
        "        all_data = None\n",
        "\n",
        "        # support vectors yi(xi.w+b) = 1\n",
        "        \n",
        "\n",
        "        step_sizes = [self.max_feature_value * 0.1,\n",
        "                      self.max_feature_value * 0.01,\n",
        "                      # point of expense:\n",
        "                      self.max_feature_value * 0.001,\n",
        "                      ]\n",
        "\n",
        "        \n",
        "        \n",
        "        # extremely expensive\n",
        "        b_range_multiple = 2\n",
        "        # we dont need to take as small of steps\n",
        "        # with b as we do w\n",
        "        b_multiple = 5\n",
        "        latest_optimum = self.max_feature_value*10\n",
        "        \n",
        "        for step in step_sizes:\n",
        "            w = np.array([latest_optimum,latest_optimum])\n",
        "            # we can do this because convex\n",
        "            optimized = False\n",
        "            while not optimized:\n",
        "                for b in np.arange(-1*(self.max_feature_value*b_range_multiple),\n",
        "                                   self.max_feature_value*b_range_multiple,\n",
        "                                   step*b_multiple):\n",
        "                    for transformation in transforms:\n",
        "                        w_t = w*transformation\n",
        "                        found_option = True\n",
        "                        # weakest link in the SVM fundamentally\n",
        "                        # SMO attempts to fix this a bit\n",
        "                        # yi(xi.w+b) >= 1\n",
        "                        # \n",
        "                        # #### add a break here later..\n",
        "                        for i in self.data:\n",
        "                            for xi in self.data[i]:\n",
        "                                yi=i\n",
        "                                if not yi*(np.dot(w_t,xi)+b) >= 1:\n",
        "                                    found_option = False\n",
        "                                    #print(xi,':',yi*(np.dot(w_t,xi)+b))\n",
        "                                    \n",
        "                        if found_option:\n",
        "                            opt_dict[np.linalg.norm(w_t)] = [w_t,b]\n",
        "\n",
        "                if w[0] < 0:\n",
        "                    optimized = True\n",
        "                    print('Optimized a step.')\n",
        "                else:\n",
        "                    w = w - step\n",
        "\n",
        "            norms = sorted([n for n in opt_dict])\n",
        "            #||w|| : [w,b]\n",
        "            opt_choice = opt_dict[norms[0]]\n",
        "            self.w = opt_choice[0]\n",
        "            self.b = opt_choice[1]\n",
        "            latest_optimum = opt_choice[0][0]+step*2\n",
        "            \n",
        "        for i in self.data:\n",
        "            for xi in self.data[i]:\n",
        "                yi=i\n",
        "                print(xi,':',yi*(np.dot(self.w,xi)+self.b))            \n",
        "\n",
        "    def predict(self,features):\n",
        "        # sign( x.w+b )\n",
        "        classification = np.sign(np.dot(np.array(features),self.w)+self.b)\n",
        "        if classification !=0 and self.visualization:\n",
        "            self.ax.scatter(features[0], features[1], s=200, marker='*', c=self.colors[classification])\n",
        "        return classification\n",
        "\n",
        "    def visualize(self):\n",
        "        [[self.ax.scatter(x[0],x[1],s=100,color=self.colors[i]) for x in data_dict[i]] for i in data_dict]\n",
        "\n",
        "        # hyperplane = x.w+b\n",
        "        # v = x.w+b\n",
        "        # psv = 1\n",
        "        # nsv = -1\n",
        "        # dec = 0\n",
        "        def hyperplane(x,w,b,v):\n",
        "            return (-w[0]*x-b+v) / w[1]\n",
        "\n",
        "        datarange = (self.min_feature_value*0.9,self.max_feature_value*1.1)\n",
        "        hyp_x_min = datarange[0]\n",
        "        hyp_x_max = datarange[1]\n",
        "\n",
        "        # (w.x+b) = 1\n",
        "        # positive support vector hyperplane\n",
        "        psv1 = hyperplane(hyp_x_min, self.w, self.b, 1)\n",
        "        psv2 = hyperplane(hyp_x_max, self.w, self.b, 1)\n",
        "        self.ax.plot([hyp_x_min,hyp_x_max],[psv1,psv2], 'k')\n",
        "\n",
        "        # (w.x+b) = -1\n",
        "        # negative support vector hyperplane\n",
        "        nsv1 = hyperplane(hyp_x_min, self.w, self.b, -1)\n",
        "        nsv2 = hyperplane(hyp_x_max, self.w, self.b, -1)\n",
        "        self.ax.plot([hyp_x_min,hyp_x_max],[nsv1,nsv2], 'k')\n",
        "\n",
        "        # (w.x+b) = 0\n",
        "        # positive support vector hyperplane\n",
        "        db1 = hyperplane(hyp_x_min, self.w, self.b, 0)\n",
        "        db2 = hyperplane(hyp_x_max, self.w, self.b, 0)\n",
        "        self.ax.plot([hyp_x_min,hyp_x_max],[db1,db2], 'y--')\n",
        "\n",
        "        plt.show()\n",
        "        \n",
        "data_dict = {-1:np.array([[1,7],\n",
        "                          [2,8],\n",
        "                          [3,8],]),\n",
        "             \n",
        "             1:np.array([[5,1],\n",
        "                         [6,-1],\n",
        "                         [7,3],])}\n",
        "\n",
        "svm = Support_Vector_Machine()\n",
        "svm.fit(data=data_dict)\n",
        "svm.visualize()\n",
        "\n",
        "\n",
        "\n"
      ],
      "metadata": {
        "colab": {
          "base_uri": "https://localhost:8080/",
          "height": 421
        },
        "id": "FR5yNphV4byr",
        "outputId": "b81d186a-f8e0-42fa-896e-d9f22b63e54f"
      },
      "execution_count": null,
      "outputs": [
        {
          "output_type": "stream",
          "name": "stdout",
          "text": [
            "Optimized a step.\n",
            "Optimized a step.\n",
            "Optimized a step.\n",
            "[1 7] : 1.271999999999435\n",
            "[2 8] : 1.271999999999435\n",
            "[3 8] : 1.0399999999995864\n",
            "[5 1] : 1.0479999999990506\n",
            "[ 6 -1] : 1.7439999999985962\n",
            "[7 3] : 1.0479999999990506\n"
          ]
        },
        {
          "output_type": "display_data",
          "data": {
            "text/plain": [
              "<Figure size 432x288 with 1 Axes>"
            ],
            "image/png": "[encoded data removed]"
          },
          "metadata": {}
        }
      ]
    },
    {
      "cell_type": "markdown",
      "source": [
        "Ahora con lo anterior,  ulizando la clase  $\\texttt{svm.predict}$, veamos como con nuevos datos, este predice donde los debe ubicar, para ello utlizaremos los puntos: \n",
        "\n",
        "\n",
        "$p_1=[0,10]\\\\\n",
        "p_2=[1,3]\\\\\n",
        "p_3=[3,4]\\\\\n",
        "p_4=[3,5]\\\\\n",
        "p_5=[5,5]\\\\\n",
        "p_6=[5,6]\\\\\n",
        "p_7=[6,-5]\\\\\n",
        "p_8=[5,8]$"
      ],
      "metadata": {
        "id": "9lkc1-uD6BBO"
      }
    },
    {
      "cell_type": "code",
      "source": [
        "\n",
        "data_dict = {-1:np.array([[1,7],\n",
        "                          [2,8],\n",
        "                          [3,8],]),\n",
        "             \n",
        "             1:np.array([[5,1],\n",
        "                         [6,-1],\n",
        "                         [7,3],])}\n",
        "\n",
        "svm = Support_Vector_Machine()\n",
        "svm.fit(data=data_dict)\n",
        "\n",
        "predict_us = [[0,10],\n",
        "              [1,3],\n",
        "              [3,4],\n",
        "              [3,5],\n",
        "              [5,5],\n",
        "              [5,6],\n",
        "              [6,-5],\n",
        "              [5,8]]\n",
        "\n",
        "for p in predict_us:\n",
        "    svm.predict(p)\n",
        "\n",
        "svm.visualize()\n"
      ],
      "metadata": {
        "id": "tOvaQrwJ64_A",
        "colab": {
          "base_uri": "https://localhost:8080/",
          "height": 421
        },
        "outputId": "d825c42d-5825-4fd6-e5f8-dde7059a2ed8"
      },
      "execution_count": null,
      "outputs": [
        {
          "output_type": "stream",
          "name": "stdout",
          "text": [
            "Optimized a step.\n",
            "Optimized a step.\n",
            "Optimized a step.\n",
            "[1 7] : 1.271999999999435\n",
            "[2 8] : 1.271999999999435\n",
            "[3 8] : 1.0399999999995864\n",
            "[5 1] : 1.0479999999990506\n",
            "[ 6 -1] : 1.7439999999985962\n",
            "[7 3] : 1.0479999999990506\n"
          ]
        },
        {
          "output_type": "display_data",
          "data": {
            "text/plain": [
              "<Figure size 432x288 with 1 Axes>"
            ],
            "image/png": "[encoded data removed]"
          },
          "metadata": {}
        }
      ]
    },
    {
      "cell_type": "markdown",
      "source": [
        "Esto muestra que realmente el modelo clasifica como queremos nuevos datos, pues los separa en los grupos en donde se acercan mas a los datos de  entrenamiento."
      ],
      "metadata": {
        "id": "9LhPaxwgaBNs"
      }
    },
    {
      "cell_type": "markdown",
      "source": [
        "### **6)** Proporcionar evidencia cuantitativa para la generalización utilizando el conjunto de datos proporcionado."
      ],
      "metadata": {
        "id": "BALtNaCY2v8p"
      }
    },
    {
      "cell_type": "markdown",
      "source": [
        "$\\underline{\\textit{Solución}}$\n",
        "\n",
        "Primero utilizemos el primer dataset para ver si podemos generalizar sobre algunos datos, para ello vamos a tomar $80\\%$ de estos datos como entranamiento, y el restante  $20\\%$ los vamos a predecir, al igual que en el punto **3)**, diremos que se generaliza sobre la muestra de testeo si podemos obtener una presición de mas del $80\\%$."
      ],
      "metadata": {
        "id": "Fc9mg3HNAxkf"
      }
    },
    {
      "cell_type": "code",
      "source": [
        "import numpy as np\n",
        "\n",
        "\n",
        "class SVM:\n",
        "\n",
        "    def __init__(self, C = 1.0):\n",
        "        # C = Termino de error\n",
        "        self.C = C\n",
        "        self.w = 0\n",
        "        self.b = 0\n",
        "\n",
        "    # Función de Pérdida / Cálculo\n",
        "    def hingeloss(self, w, b, x, y):\n",
        "        # Termino de Regularización\n",
        "        reg = 0.5 * (w * w)\n",
        "\n",
        "        for i in range(x.shape[0]):\n",
        "            # Termino de Optimización\n",
        "            opt_term = y[i] * ((np.dot(w, x[i])) + b)\n",
        "\n",
        "            # calculando perdida\n",
        "            loss = reg + self.C * max(0, 1-opt_term)\n",
        "        return loss[0][0]\n",
        "\n",
        "    def fit(self, X, Y, batch_size=100, learning_rate=0.001, epochs=1000):\n",
        "        # Numero de cararcteristicas en X\n",
        "        number_of_features = X.shape[1]\n",
        "\n",
        "        # Numero de ejemplo en X\n",
        "        number_of_samples = X.shape[0]\n",
        "\n",
        "        c = self.C\n",
        "\n",
        "        # Creando ids de 0 a number_of_samples - 1\n",
        "        ids = np.arange(number_of_samples)\n",
        "\n",
        "        # Barajar las muestras al azar\n",
        "        np.random.shuffle(ids)\n",
        "\n",
        "        # creando una matriz de ceros\n",
        "        w = np.zeros((1, number_of_features))\n",
        "        b = 0\n",
        "        losses = []\n",
        "\n",
        "        # Lógica de descenso de gradiente\n",
        "        for i in range(epochs):\n",
        "            # Cálculo de la pérdida de bisagra\n",
        "            l = self.hingeloss(w, b, X, Y)\n",
        "\n",
        "            #Anexando todas las pérdidas\n",
        "            losses.append(l)\n",
        "            \n",
        "            # Starting from 0 to the number of samples with batch_size as interval\n",
        "            for batch_initial in range(0, number_of_samples, batch_size):\n",
        "                gradw = 0\n",
        "                gradb = 0\n",
        "\n",
        "                for j in range(batch_initial, batch_initial+ batch_size):\n",
        "                    if j < number_of_samples:\n",
        "                        x = ids[j]\n",
        "                        ti = Y[x] * (np.dot(w, X[x].T) + b)\n",
        "\n",
        "                        if ti > 1:\n",
        "                            gradw += 0\n",
        "                            gradb += 0\n",
        "                        else:\n",
        "                            # Calculating the gradients\n",
        "\n",
        "                            #w.r.t w \n",
        "                            gradw += c * Y[x] * X[x]\n",
        "                            # w.r.t b\n",
        "                            gradb += c * Y[x]\n",
        "\n",
        "                # Updating weights and bias\n",
        "                w = w - learning_rate * w + learning_rate * gradw\n",
        "                b = b + learning_rate * gradb\n",
        "        \n",
        "        self.w = w\n",
        "        self.b = b\n",
        "\n",
        "        return self.w, self.b, losses\n",
        "\n",
        "    def predict(self, X):\n",
        "        \n",
        "        prediction = np.dot(X, self.w[0]) + self.b # w.x + b\n",
        "        return np.sign(prediction)"
      ],
      "metadata": {
        "id": "ZQ-zI5J9JkAR"
      },
      "execution_count": null,
      "outputs": []
    },
    {
      "cell_type": "code",
      "source": [
        "data1"
      ],
      "metadata": {
        "colab": {
          "base_uri": "https://localhost:8080/",
          "height": 424
        },
        "id": "3p-9MbyVKjlZ",
        "outputId": "917315de-f9f2-40ba-bcbd-91998335abe4"
      },
      "execution_count": null,
      "outputs": [
        {
          "output_type": "execute_result",
          "data": {
            "text/plain": [
              "            0         1        2        3  4\n",
              "0     3.62160   8.66610  -2.8073 -0.44699  0\n",
              "1     4.54590   8.16740  -2.4586 -1.46210  0\n",
              "2     3.86600  -2.63830   1.9242  0.10645  0\n",
              "3     3.45660   9.52280  -4.0112 -3.59440  0\n",
              "4     0.32924  -4.45520   4.5718 -0.98880  0\n",
              "...       ...       ...      ...      ... ..\n",
              "1367  0.40614   1.34920  -1.4501 -0.55949  1\n",
              "1368 -1.38870  -4.87730   6.4774  0.34179  1\n",
              "1369 -3.75030 -13.45860  17.5932 -2.77710  1\n",
              "1370 -3.56370  -8.38270  12.3930 -1.28230  1\n",
              "1371 -2.54190  -0.65804   2.6842  1.19520  1\n",
              "\n",
              "[1372 rows x 5 columns]"
            ],
            "text/html": [
              "\n",
              "  <div id=\"df-a1fce9c3-8026-4e01-88ec-49c3a5294e23\">\n",
              "    <div class=\"colab-df-container\">\n",
              "      <div>\n",
              "<style scoped>\n",
              "    .dataframe tbody tr th:only-of-type {\n",
              "        vertical-align: middle;\n",
              "    }\n",
              "\n",
              "    .dataframe tbody tr th {\n",
              "        vertical-align: top;\n",
              "    }\n",
              "\n",
              "    .dataframe thead th {\n",
              "        text-align: right;\n",
              "    }\n",
              "</style>\n",
              "<table border=\"1\" class=\"dataframe\">\n",
              "  <thead>\n",
              "    <tr style=\"text-align: right;\">\n",
              "      <th></th>\n",
              "      <th>0</th>\n",
              "      <th>1</th>\n",
              "      <th>2</th>\n",
              "      <th>3</th>\n",
              "      <th>4</th>\n",
              "    </tr>\n",
              "  </thead>\n",
              "  <tbody>\n",
              "    <tr>\n",
              "      <th>0</th>\n",
              "      <td>3.62160</td>\n",
              "      <td>8.66610</td>\n",
              "      <td>-2.8073</td>\n",
              "      <td>-0.44699</td>\n",
              "      <td>0</td>\n",
              "    </tr>\n",
              "    <tr>\n",
              "      <th>1</th>\n",
              "      <td>4.54590</td>\n",
              "      <td>8.16740</td>\n",
              "      <td>-2.4586</td>\n",
              "      <td>-1.46210</td>\n",
              "      <td>0</td>\n",
              "    </tr>\n",
              "    <tr>\n",
              "      <th>2</th>\n",
              "      <td>3.86600</td>\n",
              "      <td>-2.63830</td>\n",
              "      <td>1.9242</td>\n",
              "      <td>0.10645</td>\n",
              "      <td>0</td>\n",
              "    </tr>\n",
              "    <tr>\n",
              "      <th>3</th>\n",
              "      <td>3.45660</td>\n",
              "      <td>9.52280</td>\n",
              "      <td>-4.0112</td>\n",
              "      <td>-3.59440</td>\n",
              "      <td>0</td>\n",
              "    </tr>\n",
              "    <tr>\n",
              "      <th>4</th>\n",
              "      <td>0.32924</td>\n",
              "      <td>-4.45520</td>\n",
              "      <td>4.5718</td>\n",
              "      <td>-0.98880</td>\n",
              "      <td>0</td>\n",
              "    </tr>\n",
              "    <tr>\n",
              "      <th>...</th>\n",
              "      <td>...</td>\n",
              "      <td>...</td>\n",
              "      <td>...</td>\n",
              "      <td>...</td>\n",
              "      <td>...</td>\n",
              "    </tr>\n",
              "    <tr>\n",
              "      <th>1367</th>\n",
              "      <td>0.40614</td>\n",
              "      <td>1.34920</td>\n",
              "      <td>-1.4501</td>\n",
              "      <td>-0.55949</td>\n",
              "      <td>1</td>\n",
              "    </tr>\n",
              "    <tr>\n",
              "      <th>1368</th>\n",
              "      <td>-1.38870</td>\n",
              "      <td>-4.87730</td>\n",
              "      <td>6.4774</td>\n",
              "      <td>0.34179</td>\n",
              "      <td>1</td>\n",
              "    </tr>\n",
              "    <tr>\n",
              "      <th>1369</th>\n",
              "      <td>-3.75030</td>\n",
              "      <td>-13.45860</td>\n",
              "      <td>17.5932</td>\n",
              "      <td>-2.77710</td>\n",
              "      <td>1</td>\n",
              "    </tr>\n",
              "    <tr>\n",
              "      <th>1370</th>\n",
              "      <td>-3.56370</td>\n",
              "      <td>-8.38270</td>\n",
              "      <td>12.3930</td>\n",
              "      <td>-1.28230</td>\n",
              "      <td>1</td>\n",
              "    </tr>\n",
              "    <tr>\n",
              "      <th>1371</th>\n",
              "      <td>-2.54190</td>\n",
              "      <td>-0.65804</td>\n",
              "      <td>2.6842</td>\n",
              "      <td>1.19520</td>\n",
              "      <td>1</td>\n",
              "    </tr>\n",
              "  </tbody>\n",
              "</table>\n",
              "<p>1372 rows × 5 columns</p>\n",
              "</div>\n",
              "      <button class=\"colab-df-convert\" onclick=\"convertToInteractive('df-a1fce9c3-8026-4e01-88ec-49c3a5294e23')\"\n",
              "              title=\"Convert this dataframe to an interactive table.\"\n",
              "              style=\"display:none;\">\n",
              "        \n",
              "  <svg xmlns=\"http://www.w3.org/2000/svg\" height=\"24px\"viewBox=\"0 0 24 24\"\n",
              "       width=\"24px\">\n",
              "    <path d=\"M0 0h24v24H0V0z\" fill=\"none\"/>\n",
              "    <path d=\"M18.56 5.44l.94 2.06.94-2.06 2.06-.94-2.06-.94-.94-2.06-.94 2.06-2.06.94zm-11 1L8.5 8.5l.94-2.06 2.06-.94-2.06-.94L8.5 2.5l-.94 2.06-2.06.94zm10 10l.94 2.06.94-2.06 2.06-.94-2.06-.94-.94-2.06-.94 2.06-2.06.94z\"/><path d=\"M17.41 7.96l-1.37-1.37c-.4-.4-.92-.59-1.43-.59-.52 0-1.04.2-1.43.59L10.3 9.45l-7.72 7.72c-.78.78-.78 2.05 0 2.83L4 21.41c.39.39.9.59 1.41.59.51 0 1.02-.2 1.41-.59l7.78-7.78 2.81-2.81c.8-.78.8-2.07 0-2.86zM5.41 20L4 18.59l7.72-7.72 1.47 1.35L5.41 20z\"/>\n",
              "  </svg>\n",
              "      </button>\n",
              "      \n",
              "  <style>\n",
              "    .colab-df-container {\n",
              "      display:flex;\n",
              "      flex-wrap:wrap;\n",
              "      gap: 12px;\n",
              "    }\n",
              "\n",
              "    .colab-df-convert {\n",
              "      background-color: #E8F0FE;\n",
              "      border: none;\n",
              "      border-radius: 50%;\n",
              "      cursor: pointer;\n",
              "      display: none;\n",
              "      fill: #1967D2;\n",
              "      height: 32px;\n",
              "      padding: 0 0 0 0;\n",
              "      width: 32px;\n",
              "    }\n",
              "\n",
              "    .colab-df-convert:hover {\n",
              "      background-color: #E2EBFA;\n",
              "      box-shadow: 0px 1px 2px rgba(60, 64, 67, 0.3), 0px 1px 3px 1px rgba(60, 64, 67, 0.15);\n",
              "      fill: #174EA6;\n",
              "    }\n",
              "\n",
              "    [theme=dark] .colab-df-convert {\n",
              "      background-color: #3B4455;\n",
              "      fill: #D2E3FC;\n",
              "    }\n",
              "\n",
              "    [theme=dark] .colab-df-convert:hover {\n",
              "      background-color: #434B5C;\n",
              "      box-shadow: 0px 1px 3px 1px rgba(0, 0, 0, 0.15);\n",
              "      filter: drop-shadow(0px 1px 2px rgba(0, 0, 0, 0.3));\n",
              "      fill: #FFFFFF;\n",
              "    }\n",
              "  </style>\n",
              "\n",
              "      <script>\n",
              "        const buttonEl =\n",
              "          document.querySelector('#df-a1fce9c3-8026-4e01-88ec-49c3a5294e23 button.colab-df-convert');\n",
              "        buttonEl.style.display =\n",
              "          google.colab.kernel.accessAllowed ? 'block' : 'none';\n",
              "\n",
              "        async function convertToInteractive(key) {\n",
              "          const element = document.querySelector('#df-a1fce9c3-8026-4e01-88ec-49c3a5294e23');\n",
              "          const dataTable =\n",
              "            await google.colab.kernel.invokeFunction('convertToInteractive',\n",
              "                                                     [key], {});\n",
              "          if (!dataTable) return;\n",
              "\n",
              "          const docLinkHtml = 'Like what you see? Visit the ' +\n",
              "            '<a target=\"_blank\" href=https://colab.research.google.com/notebooks/data_table.ipynb>data table notebook</a>'\n",
              "            + ' to learn more about interactive tables.';\n",
              "          element.innerHTML = '';\n",
              "          dataTable['output_type'] = 'display_data';\n",
              "          await google.colab.output.renderOutput(dataTable, element);\n",
              "          const docLink = document.createElement('div');\n",
              "          docLink.innerHTML = docLinkHtml;\n",
              "          element.appendChild(docLink);\n",
              "        }\n",
              "      </script>\n",
              "    </div>\n",
              "  </div>\n",
              "  "
            ]
          },
          "metadata": {},
          "execution_count": 16
        }
      ]
    },
    {
      "cell_type": "code",
      "source": [
        "from sklearn import datasets\n",
        "import matplotlib.pyplot as plt\n",
        "import numpy as np\n",
        "from sklearn.metrics import accuracy_score\n",
        "from sklearn.model_selection import train_test_split\n",
        "import random\n",
        "import math \n",
        "\n",
        "\n",
        "\n",
        "\n",
        "\n",
        "X=data1.to_numpy()\n",
        "perc= math.trunc(80*(X.shape[0])/100)  #Porcentaje de datos de entrenamiento (80%)\n",
        "\n",
        "random.seed(3)     #semilla para fijar lista aleatoria\n",
        "Xlistt=X.tolist()     #lista de todos los datos\n",
        "Xtrainlist= random.sample(Xlistt, perc)    #Lista aleatoria del 80% de los datos\n",
        "Xtestlist= [elem for elem in Xlistt if elem not in Xtrainlist] #Lista de datos de testeo (20% del total de los datos)\n",
        "Xtestarr=np.array(Xtestlist)  #matriz datos de testeo\n",
        "Xtrainarr=np.array(Xtrainlist) #matriz datos de entrenamiento\n",
        "\n",
        "Xtrain=Xtrainarr[:,0:4];   #Caracteristicas de entrenamiento\n",
        "Ytrain=Xtrainarr[:,4:5];     #Etiquetas de enetranamiento\n",
        "Ytrain = np.where(Ytrain == 0, -1, 1);   #Cambiar 0's por -1's\n",
        "\n",
        "Xtest=Xtestarr[:,0:4];   #Caracteristicas de testeo\n",
        "Ytest=Xtestarr[:,4:5];    #Etiquetas de testeo\n",
        "Ytest = np.where(Ytest== 0, -1, 1);\n"
      ],
      "metadata": {
        "id": "2Zj3v3MiNJy7"
      },
      "execution_count": null,
      "outputs": []
    },
    {
      "cell_type": "code",
      "source": [
        "\n",
        "svm = SVM()\n",
        "\n",
        "w, b, losses = svm.fit(Xtrain, Ytrain)\n",
        "\n",
        "prediction = svm.predict(Xtest)\n",
        "\n",
        "# Loss value\n",
        "lss = losses.pop()\n",
        "\n",
        "print(\"Loss:\", lss)\n",
        "print(\"Prediction:\", prediction)\n",
        "print(\"Accuracy:\", accuracy_score(prediction, Ytest))\n",
        "print(\"w, b:\", [w, b])"
      ],
      "metadata": {
        "colab": {
          "base_uri": "https://localhost:8080/"
        },
        "id": "qZV2gyKgIxxC",
        "outputId": "1c3b4cc8-2173-45bb-c892-adbb64bbbd15"
      },
      "execution_count": null,
      "outputs": [
        {
          "output_type": "stream",
          "name": "stdout",
          "text": [
            "Loss: 0.46230060083389474\n",
            "Prediction: [ 1. -1. -1. -1. -1. -1. -1. -1. -1. -1. -1. -1. -1. -1. -1. -1. -1. -1.\n",
            " -1. -1. -1. -1. -1. -1. -1. -1. -1. -1. -1. -1. -1. -1. -1. -1. -1. -1.\n",
            " -1. -1. -1. -1. -1. -1. -1. -1. -1. -1. -1. -1. -1. -1. -1. -1. -1. -1.\n",
            " -1. -1. -1. -1. -1. -1. -1. -1. -1. -1. -1. -1. -1. -1. -1. -1. -1. -1.\n",
            " -1. -1. -1. -1. -1. -1. -1. -1. -1. -1. -1. -1. -1. -1. -1. -1. -1. -1.\n",
            " -1. -1. -1. -1. -1. -1. -1. -1. -1. -1. -1. -1. -1. -1. -1. -1. -1. -1.\n",
            " -1. -1. -1. -1. -1. -1. -1. -1. -1. -1. -1. -1. -1. -1. -1. -1. -1. -1.\n",
            " -1. -1. -1. -1. -1. -1. -1. -1. -1. -1. -1. -1. -1. -1. -1. -1. -1. -1.\n",
            " -1. -1. -1. -1. -1. -1. -1. -1. -1. -1. -1. -1. -1. -1.  1.  1.  1.  1.\n",
            "  1.  1.  1.  1.  1.  1.  1.  1.  1.  1.  1.  1.  1.  1.  1.  1.  1.  1.\n",
            "  1.  1.  1.  1.  1.  1.  1.  1.  1.  1.  1.  1.  1.  1.  1.  1.  1.  1.\n",
            "  1.  1.  1.  1.  1.  1.  1.  1.  1.  1.  1.  1.  1.  1.  1.  1.  1.  1.\n",
            "  1.  1.  1.  1.  1.  1.  1.  1.  1.  1.  1.  1.  1.  1.  1.  1.  1.  1.\n",
            "  1.  1.  1.  1.  1.  1.  1.  1.  1.  1.  1.  1.  1.  1.  1.  1.  1.  1.\n",
            "  1.  1.  1.  1.  1.  1.  1.  1.  1.  1.  1.  1.  1.  1.  1.  1.  1.]\n",
            "Accuracy: 0.9962825278810409\n",
            "w, b: [array([[-0.96373492, -0.62916608, -0.72054644,  0.00820653]]), array([1.467])]\n"
          ]
        }
      ]
    },
    {
      "cell_type": "markdown",
      "source": [
        "Con la anterior vemos que para la  semilla $\\texttt{random.sedd(3)}$, la precisión que se obtiene es del $99,62\\%$ de los datos, es decir, sobre los $275$ datos de prueba alrededor de $272$ (20\\% del total de los datos), fueron bien clasificados, por lo tanto podemos decir que bajo los parametros de generalización planteados , podemos asegurar que este modelo generaliza."
      ],
      "metadata": {
        "id": "wL-Lh44QS6fz"
      }
    },
    {
      "cell_type": "markdown",
      "source": [
        "Ahora vamos hacer lo mismo pero  con el $\\textit{Segundo dataset}$"
      ],
      "metadata": {
        "id": "WLHgR6VrZsQv"
      }
    },
    {
      "cell_type": "code",
      "source": [
        "X=data22.to_numpy()\n",
        "X=X[:,1:7]\n",
        "\n",
        "Xtest1=X[:,0:5];   #Caracteristicas de testeo\n",
        "Ytest1=X[:,5:6];\n",
        "\n",
        "Xtest1"
      ],
      "metadata": {
        "colab": {
          "base_uri": "https://localhost:8080/"
        },
        "id": "F9npEVwWLlpo",
        "outputId": "5f8fe240-2c30-4e7c-b4c2-cdab660e1a69"
      },
      "execution_count": null,
      "outputs": [
        {
          "output_type": "execute_result",
          "data": {
            "text/plain": [
              "array([[23.7, 26.272, 585.2, 749.2, 0.0047641630241641],\n",
              "       [23.718, 26.29, 578.4, 760.4, 0.0047726609921251],\n",
              "       [23.73, 26.23, 572.666666666667, 769.666666666667,\n",
              "        0.0047651525524654],\n",
              "       ...,\n",
              "       [24.33, 25.7, 817.0, 1125.8, 0.0048407587312725],\n",
              "       [24.3566666666667, 25.7, 813.0, 1123.0, 0.0048485592812755],\n",
              "       [24.4083333333333, 25.6816666666667, 798.0, 1124.0,\n",
              "        0.0048602077036219]], dtype=object)"
            ]
          },
          "metadata": {},
          "execution_count": 127
        }
      ]
    },
    {
      "cell_type": "code",
      "source": [
        "#Entrenamiento \n",
        "\n",
        "X=data21.to_numpy()\n",
        "X=X[:,1:7]\n",
        "perc= math.trunc(20*(X.shape[0])/100)  #Porcentaje de datos de entrenamiento (20%)\n",
        "\n",
        "random.seed(3)     #semilla para fijar lista aleatoria\n",
        "Xlistt=X.tolist()     #lista de todos los datos\n",
        "Xtrainlist= random.sample(Xlistt, perc)    #Lista aleatoria del 20% de los datos\n",
        "Xtrainarr=np.array(Xtrainlist) #matriz datos de entrenamiento\n",
        "\n",
        "Xtrain=Xtrainarr[:,0:5];   #Caracteristicas de entrenamiento\n",
        "Ytrain=Xtrainarr[:,5:6];     #Etiquetas de enetranamiento\n",
        "Ytrain = np.where(Ytrain == 0, -1, 1);   #Cambiar 0's por -1's\n",
        "\n",
        "#-------------------------------------------------------------------------------------------------------------------------------------------------------\n",
        "\n",
        "#Test 1\n",
        "\n",
        "X=data22.to_numpy()\n",
        "X=X[:,1:7]\n",
        "perc1= math.trunc(30*(X.shape[0])/100)  #Porcentaje de datos de testeo (30%)\n",
        "\n",
        "random.seed(3)     #semilla para fijar lista aleatoria\n",
        "Xlistt1=X.tolist()     #lista de todos los datos\n",
        "Xtestlist1= random.sample(Xlistt1, perc1)    #Lista aleatoria del 80% de los datos\n",
        "Xtestarr1=np.array(Xtestlist1)  #matriz datos de testeo\n",
        "\n",
        "Xtest1=Xtestarr1[:,0:5];   #Caracteristicas de testeo\n",
        "Ytest1=Xtestarr1[:,5:6];    #Etiquetas de testeo\n",
        "Ytest1 = np.where(Ytest1== 0, -1, 1);\n",
        "#-------------------------------------------------------------------------------------------------------------------------------------------------------\n",
        "#Test 2\n",
        "\n",
        "X=data23.to_numpy()\n",
        "X=X[:,1:7]\n",
        "perc2= math.trunc(30*(X.shape[0])/100)  #Porcentaje de datos de testeo (30%)\n",
        "\n",
        "random.seed(3)     #semilla para fijar lista aleatoria\n",
        "Xlistt2=X.tolist()     #lista de todos los datos\n",
        "Xtestlist2= random.sample(Xlistt2, perc2)    #Lista aleatoria del 80% de los datos\n",
        "Xtestarr2=np.array(Xtestlist2)  #matriz datos de testeo\n",
        "\n",
        "Xtest2=Xtestarr2[:,0:5];   #Caracteristicas de testeo\n",
        "Ytest2=Xtestarr2[:,5:6];    #Etiquetas de testeo\n",
        "Ytest2 = np.where(Ytest2== 0, -1, 1);\n",
        "#-------------------------------------\n"
      ],
      "metadata": {
        "id": "XkLiIulCaXRc"
      },
      "execution_count": null,
      "outputs": []
    },
    {
      "cell_type": "code",
      "source": [
        "svm = SVM()\n",
        "\n",
        "w, b, losses = svm.fit(Xtrain, Ytrain)\n",
        "\n",
        "prediction = svm.predict(Xtest1)\n",
        "\n",
        "# Loss value\n",
        "lss = losses.pop()\n",
        "\n",
        "print(\"Loss:\", lss)\n",
        "print(\"Prediction:\", prediction)\n",
        "print(\"Accuracy:\", accuracy_score(prediction, Ytest1))\n",
        "print(\"w, b:\", [w, b])"
      ],
      "metadata": {
        "colab": {
          "base_uri": "https://localhost:8080/"
        },
        "id": "wfXZ5tZ4OHwo",
        "outputId": "9037225c-203d-4874-f9dd-289376481b0d"
      },
      "execution_count": null,
      "outputs": [
        {
          "output_type": "stream",
          "name": "stdout",
          "text": [
            "Loss: 5336.230116448356\n",
            "Prediction: [-1. -1. -1. -1.  1. -1. -1.  1. -1. -1.  1.  1. -1.  1. -1. -1. -1. -1.\n",
            " -1. -1. -1.  1.  1. -1. -1.  1. -1. -1.  1.  1. -1. -1. -1.  1.  1.  1.\n",
            "  1. -1. -1.  1. -1.  1. -1. -1. -1.  1. -1.  1. -1. -1. -1.  1. -1.  1.\n",
            "  1. -1. -1.  1. -1.  1. -1. -1.  1. -1. -1. -1.  1.  1.  1. -1.  1. -1.\n",
            " -1. -1. -1. -1. -1.  1.  1. -1. -1. -1. -1. -1.  1. -1. -1. -1.  1.  1.\n",
            " -1. -1. -1.  1. -1.  1.  1.  1. -1.  1.  1.  1. -1. -1.  1.  1.  1. -1.\n",
            " -1. -1. -1.  1. -1.  1.  1.  1.  1. -1.  1. -1.  1.  1. -1.  1.  1. -1.\n",
            " -1.  1. -1. -1. -1. -1.  1. -1. -1.  1. -1.  1. -1.  1. -1. -1.  1.  1.\n",
            " -1.  1.  1.  1. -1. -1. -1.  1. -1.  1.  1.  1.  1. -1.  1. -1. -1.  1.\n",
            "  1. -1. -1.  1.  1. -1.  1. -1.  1. -1.  1.  1.  1.  1.  1.  1. -1.  1.\n",
            "  1. -1.  1. -1. -1.  1. -1.  1. -1. -1. -1. -1. -1.  1.  1. -1. -1. -1.\n",
            " -1.  1. -1. -1. -1.  1. -1. -1.  1. -1. -1.  1. -1. -1.  1. -1. -1.  1.\n",
            "  1. -1.  1.  1. -1.  1. -1.  1. -1.  1. -1. -1. -1.  1. -1. -1. -1.  1.\n",
            " -1. -1. -1. -1. -1.  1. -1. -1.  1. -1.  1. -1. -1. -1.  1. -1. -1.  1.\n",
            "  1. -1. -1. -1.  1.  1.  1. -1. -1. -1. -1.  1. -1.  1. -1. -1. -1.  1.\n",
            " -1.  1. -1. -1.  1. -1. -1.  1. -1.  1. -1. -1. -1. -1. -1.  1. -1.  1.\n",
            " -1. -1.  1.  1.  1. -1.  1. -1. -1. -1.  1.  1.  1.  1.  1. -1.  1. -1.\n",
            " -1. -1. -1.  1. -1. -1. -1. -1.  1. -1.  1. -1.  1.  1.  1.  1.  1.  1.\n",
            " -1.  1. -1. -1. -1. -1.  1.  1. -1. -1. -1.  1.  1. -1. -1. -1.  1. -1.\n",
            "  1.  1. -1. -1. -1. -1. -1.  1. -1. -1. -1.  1. -1. -1. -1. -1. -1.  1.\n",
            "  1.  1.  1.  1. -1. -1. -1. -1.  1. -1.  1. -1. -1.  1. -1. -1.  1.  1.\n",
            "  1. -1. -1. -1.  1. -1.  1.  1. -1.  1. -1. -1.  1.  1. -1.  1. -1. -1.\n",
            " -1. -1. -1. -1. -1.  1. -1. -1. -1. -1. -1. -1.  1. -1.  1.  1.  1. -1.\n",
            " -1.  1. -1. -1. -1. -1.  1. -1. -1.  1.  1. -1. -1. -1. -1.  1. -1. -1.\n",
            " -1. -1.  1. -1. -1. -1.  1.  1. -1.  1. -1.  1. -1.  1.  1.  1. -1.  1.\n",
            " -1. -1.  1. -1.  1. -1. -1.  1. -1. -1. -1.  1. -1. -1. -1.  1. -1. -1.\n",
            " -1. -1. -1.  1. -1. -1.  1. -1. -1.  1.  1. -1.  1.  1. -1. -1. -1. -1.\n",
            " -1. -1.  1. -1.  1.  1. -1. -1.  1.  1. -1.  1.  1.  1. -1. -1. -1. -1.\n",
            "  1. -1.  1. -1.  1. -1. -1. -1. -1. -1. -1. -1.  1. -1.  1.  1. -1. -1.\n",
            " -1. -1. -1.  1. -1.  1. -1. -1. -1.  1. -1. -1. -1. -1. -1. -1.  1. -1.\n",
            " -1. -1.  1. -1. -1. -1. -1.  1.  1. -1.  1.  1.  1.  1. -1.  1. -1. -1.\n",
            " -1. -1.  1.  1.  1. -1. -1.  1. -1. -1. -1.  1. -1. -1. -1. -1. -1. -1.\n",
            "  1. -1. -1.  1. -1. -1. -1. -1. -1.  1.  1.  1. -1.  1.  1.  1.  1. -1.\n",
            " -1. -1.  1. -1.  1. -1. -1. -1. -1. -1. -1. -1. -1.  1. -1. -1. -1.  1.\n",
            " -1. -1. -1. -1.  1. -1. -1.  1. -1. -1.  1. -1.  1.  1. -1. -1. -1. -1.\n",
            " -1. -1.  1.  1. -1.  1. -1. -1. -1.  1. -1.  1.  1.  1.  1. -1. -1.  1.\n",
            " -1.  1. -1. -1. -1.  1.  1. -1. -1. -1.  1.  1.  1. -1. -1. -1. -1. -1.\n",
            " -1. -1. -1. -1.  1.  1. -1. -1.  1.  1.  1. -1. -1.  1. -1. -1. -1.  1.\n",
            " -1. -1. -1. -1. -1.  1.  1. -1. -1. -1. -1. -1.  1. -1.  1. -1. -1.  1.\n",
            "  1. -1. -1.  1. -1. -1. -1. -1.  1.  1. -1. -1.  1. -1.  1. -1. -1. -1.\n",
            "  1.  1. -1. -1.  1. -1. -1. -1. -1.  1. -1. -1. -1. -1. -1. -1.  1.  1.\n",
            "  1. -1. -1. -1.  1. -1. -1.  1. -1. -1. -1. -1.  1. -1. -1. -1. -1. -1.\n",
            "  1. -1. -1.  1. -1.  1.  1.  1.  1. -1. -1.  1. -1.  1. -1. -1. -1.  1.\n",
            " -1.  1. -1. -1. -1. -1. -1.  1.  1. -1. -1.  1.  1.  1. -1.  1.  1.  1.\n",
            "  1.  1. -1. -1.  1. -1.  1.]\n",
            "Accuracy: 0.9787234042553191\n",
            "w, b: [array([[-1.03461731e+02, -8.39464818e+01,  2.33681795e+01,\n",
            "        -3.42193755e+00, -1.22932512e-02]]), array([-86.529])]\n"
          ]
        }
      ]
    },
    {
      "cell_type": "code",
      "source": [
        "svm = SVM()\n",
        "\n",
        "w, b, losses = svm.fit(Xtrain, Ytrain)\n",
        "\n",
        "prediction = svm.predict(Xtest2)\n",
        "\n",
        "# Loss value\n",
        "lss = losses.pop()\n",
        "\n",
        "print(\"Loss:\", lss)\n",
        "print(\"Prediction:\", prediction)\n",
        "print(\"Accuracy:\", accuracy_score(prediction, Ytest2))\n",
        "print(\"w, b:\", [w, b])"
      ],
      "metadata": {
        "colab": {
          "base_uri": "https://localhost:8080/"
        },
        "id": "tlQEim0aShP9",
        "outputId": "ff9fb3da-6373-4d93-b020-525b4ba1eb99"
      },
      "execution_count": null,
      "outputs": [
        {
          "output_type": "stream",
          "name": "stdout",
          "text": [
            "Loss: 394.63586146482453\n",
            "Prediction: [-1. -1. -1. ...  1.  1.  1.]\n",
            "Accuracy: 0.974108818011257\n",
            "w, b: [array([[-2.93824240e+01, -2.96721574e+01,  5.43017930e+01,\n",
            "        -2.47805521e+01, -4.52547458e-03]]), array([-27.589])]\n"
          ]
        }
      ]
    },
    {
      "cell_type": "markdown",
      "source": [
        "### **Referencias** "
      ],
      "metadata": {
        "id": "Zqqsy4Xp3SEI"
      }
    },
    {
      "cell_type": "markdown",
      "source": [
        "\n",
        "\n",
        "[1].   The HundredPage Machine Learning,Andriy Burkov, 2019. \n",
        "\n",
        "[2].   Support Vector Machine Optimization in Python, https://pythonprogramming.net/svm-optimization-python-2-machine-learning-tutorial/?completed=/svm-optimization-python-machine-learning-tutorial/\n",
        "\n",
        "[3].  Visualization and Predicting with our Custom SVM: https://pythonprogramming.net/predictions-svm-machine-learning-tutorial/?completed=/svm-optimization-python-2-machine-learning-tutorial/\n",
        "\n",
        "[4]. Implementing SVM from Scratch Using Python: https://www.pycodemates.com/2022/10/implementing-SVM-from-scratch-in-python.html\n",
        "\n",
        "[5]. ConvexHull and linear separability: https://web.mit.edu/dxh/www/convex.pdf\n",
        "\n",
        "[6]. Intersección entre envolventes convexas: https://stackoverflow.com/questions/59416730/determining-whether-two-convex-hulls-overlap\n",
        "\n",
        "[7]. scipy.spatial.ConvexHull: https://stackoverflow.com/questions/59416730/determining-whether-two-convex-hulls-overlap\n"
      ],
      "metadata": {
        "id": "IrU70xS53X6A"
      }
    },
    {
      "cell_type": "markdown",
      "source": [
        "# Algo de convexhull  y simplejos "
      ],
      "metadata": {
        "id": "uErHE3-tjlkt"
      }
    },
    {
      "cell_type": "markdown",
      "source": [
        "\n",
        "## Por simplejos \n"
      ],
      "metadata": {
        "id": "KU2nRChBjux6"
      }
    },
    {
      "cell_type": "code",
      "source": [
        "  \n",
        "\n",
        "\n",
        "from scipy.spatial import ConvexHull, convex_hull_plot_2d\n",
        "import numpy as np\n",
        "\n",
        "random.seed(1)\n",
        "rng = np.random.default_rng()\n",
        "\n",
        "random.seed(1)\n",
        "points = rng.random((30, 2))   # 30 random points in 2-D\n",
        "hull = ConvexHull(points)"
      ],
      "metadata": {
        "id": "yZXNUbk3skPd"
      },
      "execution_count": null,
      "outputs": []
    },
    {
      "cell_type": "code",
      "source": [
        "print(points)"
      ],
      "metadata": {
        "colab": {
          "base_uri": "https://localhost:8080/"
        },
        "id": "ZvOeTiVR1pYy",
        "outputId": "f95c5ec1-c096-451a-ae2f-de20ab5ba489"
      },
      "execution_count": null,
      "outputs": [
        {
          "output_type": "stream",
          "name": "stdout",
          "text": [
            "[[0.71477003 0.61190217]\n",
            " [0.70508319 0.47450759]\n",
            " [0.75081038 0.24944748]\n",
            " [0.64146325 0.32237822]\n",
            " [0.93969272 0.19923531]\n",
            " [0.33139127 0.71934934]\n",
            " [0.4122011  0.53051349]\n",
            " [0.72637734 0.41649601]\n",
            " [0.06701541 0.95439227]\n",
            " [0.86408685 0.57340161]\n",
            " [0.82673407 0.05590994]\n",
            " [0.7092171  0.01849625]\n",
            " [0.71572093 0.65924022]\n",
            " [0.24216446 0.58387588]\n",
            " [0.53270931 0.22601714]\n",
            " [0.49148519 0.38868014]\n",
            " [0.65277253 0.87420492]\n",
            " [0.4748887  0.11510647]\n",
            " [0.37359237 0.18234201]\n",
            " [0.99565008 0.81867653]\n",
            " [0.9858539  0.26165246]\n",
            " [0.0493151  0.27735648]\n",
            " [0.41492874 0.21599686]\n",
            " [0.67861739 0.30353838]\n",
            " [0.53370409 0.73731533]\n",
            " [0.65313169 0.23353738]\n",
            " [0.22744136 0.08837658]\n",
            " [0.49139907 0.25430657]\n",
            " [0.19522923 0.29617034]\n",
            " [0.42172237 0.85420716]]\n"
          ]
        }
      ]
    },
    {
      "cell_type": "code",
      "source": [
        "import matplotlib.pyplot as plt\n",
        "plt.plot(points[:,0], points[:,1], 'o')\n",
        "for simplex in hull.simplices:\n",
        "    plt.plot(points[simplex, 0], points[simplex, 1], 'k-')"
      ],
      "metadata": {
        "colab": {
          "base_uri": "https://localhost:8080/",
          "height": 269
        },
        "id": "HiZtPRvj279P",
        "outputId": "5e210d69-73fe-4fa3-8f69-48ec6245da33"
      },
      "execution_count": null,
      "outputs": [
        {
          "output_type": "display_data",
          "data": {
            "text/plain": [
              "<Figure size 432x288 with 1 Axes>"
            ],
            "image/png": "[encoded data removed]"
          },
          "metadata": {
            "needs_background": "light"
          }
        }
      ]
    },
    {
      "cell_type": "code",
      "source": [
        "hull.simplices # Nos dice los puntos que estan en la frontera, y las tuplas que aparecen son los puntos que se unen, por ejemplo [8,21] es que el punto numero 15 en points se une con el punto numero 20 "
      ],
      "metadata": {
        "colab": {
          "base_uri": "https://localhost:8080/"
        },
        "id": "36T5ECvkfDr2",
        "outputId": "303a2144-7a37-42e1-ce76-0ab768246d01"
      },
      "execution_count": null,
      "outputs": [
        {
          "output_type": "execute_result",
          "data": {
            "text/plain": [
              "array([[ 8, 21],\n",
              "       [16, 19],\n",
              "       [16,  8],\n",
              "       [26, 21],\n",
              "       [20, 19],\n",
              "       [11, 10],\n",
              "       [11, 26],\n",
              "       [ 4, 10],\n",
              "       [ 4, 20]], dtype=int32)"
            ]
          },
          "metadata": {},
          "execution_count": 42
        }
      ]
    },
    {
      "cell_type": "code",
      "source": [
        "points[[0,9],0]"
      ],
      "metadata": {
        "colab": {
          "base_uri": "https://localhost:8080/"
        },
        "id": "r8dQxJPBeQx3",
        "outputId": "0350724e-d163-4e2a-b62c-60ed7749b00d"
      },
      "execution_count": null,
      "outputs": [
        {
          "output_type": "execute_result",
          "data": {
            "text/plain": [
              "array([0.66473961, 0.22528124])"
            ]
          },
          "metadata": {},
          "execution_count": 38
        }
      ]
    },
    {
      "cell_type": "code",
      "source": [
        "points[[15,9],1]"
      ],
      "metadata": {
        "colab": {
          "base_uri": "https://localhost:8080/"
        },
        "id": "letiuJZEe6oI",
        "outputId": "9a2ca38a-2638-40f1-cfcf-95db275e6a82"
      },
      "execution_count": null,
      "outputs": [
        {
          "output_type": "execute_result",
          "data": {
            "text/plain": [
              "array([0.05289575, 0.01600058])"
            ]
          },
          "metadata": {},
          "execution_count": 36
        }
      ]
    },
    {
      "cell_type": "markdown",
      "source": [
        "## Por vertices"
      ],
      "metadata": {
        "id": "mKCy7nCoj6_z"
      }
    },
    {
      "cell_type": "code",
      "source": [
        "plt.plot(points[hull.vertices,0], points[hull.vertices,1], 'k-', lw=2)  #Primera coordenada de los vertices, segunda cordenada de los vertices\n",
        "#plt.plot(points[hull.vertices[0],0], points[hull.vertices[0],1], 'o')\n",
        "plt.show()"
      ],
      "metadata": {
        "colab": {
          "base_uri": "https://localhost:8080/",
          "height": 269
        },
        "id": "hl8B7TlB3BqX",
        "outputId": "6d2958ce-b2da-461e-a81d-d016f795a733"
      },
      "execution_count": null,
      "outputs": [
        {
          "output_type": "display_data",
          "data": {
            "text/plain": [
              "<Figure size 432x288 with 1 Axes>"
            ],
            "image/png": "[encoded data removed]"
          },
          "metadata": {
            "needs_background": "light"
          }
        }
      ]
    },
    {
      "cell_type": "code",
      "source": [
        "hull.vertices #hull.vertices nos da una array donde estan los numerales de los puntos que son vertices, en este caso los puntos  8, 21, 26, 11, 10,  4, 20, 19, 16 en points son vertices"
      ],
      "metadata": {
        "colab": {
          "base_uri": "https://localhost:8080/"
        },
        "id": "dEJcvc3clXLR",
        "outputId": "f1c9de63-8ced-4260-dae4-90292eeeab18"
      },
      "execution_count": null,
      "outputs": [
        {
          "output_type": "execute_result",
          "data": {
            "text/plain": [
              "array([ 8, 21, 26, 11, 10,  4, 20, 19, 16], dtype=int32)"
            ]
          },
          "metadata": {},
          "execution_count": 57
        }
      ]
    },
    {
      "cell_type": "code",
      "source": [
        "envolvente=points[hull.vertices]   #esto nos da la matriz de los puntos que son vertices"
      ],
      "metadata": {
        "id": "4musN-Q4jhA7"
      },
      "execution_count": null,
      "outputs": []
    },
    {
      "cell_type": "markdown",
      "source": [],
      "metadata": {
        "id": "sg1FFoo0now7"
      }
    },
    {
      "cell_type": "code",
      "source": [
        "import numpy as np\n",
        "import cvxpy as cvxpy\n",
        "\n",
        "# Determine feasibility of Ax <= b\n",
        "# cloud1 and cloud2 should be numpy.ndarrays\n",
        "def clouds_overlap(cloud1, cloud2):\n",
        "    # build the A matrix\n",
        "    cloud12 = np.vstack((-cloud1, cloud2))\n",
        "    vec_ones = np.r_[np.ones((len(cloud1),1)), -np.ones((len(cloud2),1))]\n",
        "    A = np.r_['1', cloud12, vec_ones]\n",
        "\n",
        "    # make b vector\n",
        "    ntot = len(cloud1) + len(cloud2)\n",
        "    b = -np.ones(ntot)\n",
        "\n",
        "    # define the x variable and the equation to be solved\n",
        "    x = cvxpy.Variable(A.shape[1])\n",
        "    constraints = [A@x <= b]\n",
        "\n",
        "    # since we're only determining feasibility there is no minimization\n",
        "    # so just set the objective function to a constant\n",
        "    obj = cvxpy.Minimize(0)\n",
        "\n",
        "    # SCS was the most accurate/robust of the non-commercial solvers\n",
        "    # for my application\n",
        "    problem = cvxpy.Problem(obj, constraints)\n",
        "    problem.solve(solver=cvxpy.SCS)\n",
        "\n",
        "    # Any 'inaccurate' status indicates ambiguity, so you can\n",
        "    # return True or False as you please\n",
        "    if problem.status == 'infeasible' or problem.status.endswith('inaccurate'):\n",
        "        return True\n",
        "    else:\n",
        "        return False\n",
        "\n"
      ],
      "metadata": {
        "id": "jxbOfjPbyh5d"
      },
      "execution_count": null,
      "outputs": []
    },
    {
      "cell_type": "code",
      "source": [
        "\n",
        "pointinside=np.array([[0.5,0.5]])\n",
        "envolvente=points[hull.vertices] \n",
        "pointoutside=np.array([[0.6,0.9],[0.5,9]])\n",
        "\n",
        "print(\"Clouds overlap?\", clouds_overlap(envolvente, pointinside))\n",
        "print(\"Clouds overlap?\", clouds_overlap(envolvente, pointoutside))\n"
      ],
      "metadata": {
        "colab": {
          "base_uri": "https://localhost:8080/"
        },
        "id": "ZZUwz9sZn_ay",
        "outputId": "1141c5fb-2bcd-40d8-87c8-c15b8ce172b8"
      },
      "execution_count": null,
      "outputs": [
        {
          "output_type": "stream",
          "name": "stdout",
          "text": [
            "Clouds overlap? True\n",
            "Clouds overlap? False\n"
          ]
        }
      ]
    },
    {
      "cell_type": "code",
      "source": [
        "import matplotlib.pyplot as plt\n",
        "plt.plot(0.6,0.86, 'o')\n",
        "plt.plot(points[:,0], points[:,1], 'o')\n",
        "for simplex in hull.simplices:\n",
        "    plt.plot(points[simplex, 0], points[simplex, 1], 'k-')"
      ],
      "metadata": {
        "colab": {
          "base_uri": "https://localhost:8080/",
          "height": 269
        },
        "id": "DaUNA6IBqS3o",
        "outputId": "24b4b505-5e34-4f01-9830-a02375465cc7"
      },
      "execution_count": null,
      "outputs": [
        {
          "output_type": "display_data",
          "data": {
            "text/plain": [
              "<Figure size 432x288 with 1 Axes>"
            ],
            "image/png": "[encoded data removed]"
          },
          "metadata": {
            "needs_background": "light"
          }
        }
      ]
    },
    {
      "cell_type": "code",
      "source": [
        "datos1array"
      ],
      "metadata": {
        "colab": {
          "base_uri": "https://localhost:8080/"
        },
        "id": "J8hjFhfOxlNt",
        "outputId": "ff311c46-effa-4d14-93bc-6a0bcb0b11b3"
      },
      "execution_count": null,
      "outputs": [
        {
          "output_type": "execute_result",
          "data": {
            "text/plain": [
              "array([[  3.6216 ,   8.6661 ,  -2.8073 ,  -0.44699,   0.     ],\n",
              "       [  4.5459 ,   8.1674 ,  -2.4586 ,  -1.4621 ,   0.     ],\n",
              "       [  3.866  ,  -2.6383 ,   1.9242 ,   0.10645,   0.     ],\n",
              "       ...,\n",
              "       [ -3.7503 , -13.4586 ,  17.5932 ,  -2.7771 ,   1.     ],\n",
              "       [ -3.5637 ,  -8.3827 ,  12.393  ,  -1.2823 ,   1.     ],\n",
              "       [ -2.5419 ,  -0.65804,   2.6842 ,   1.1952 ,   1.     ]])"
            ]
          },
          "metadata": {},
          "execution_count": 91
        }
      ]
    },
    {
      "cell_type": "code",
      "source": [
        "a=datos1array[0,:]"
      ],
      "metadata": {
        "id": "2w172H3ExpTU"
      },
      "execution_count": null,
      "outputs": []
    },
    {
      "cell_type": "code",
      "source": [
        "a[4]"
      ],
      "metadata": {
        "colab": {
          "base_uri": "https://localhost:8080/"
        },
        "id": "1z-gnr47xwk0",
        "outputId": "d81b3ed8-b24e-43f3-c9b6-ce97c7d169c2"
      },
      "execution_count": null,
      "outputs": [
        {
          "output_type": "execute_result",
          "data": {
            "text/plain": [
              "0.0"
            ]
          },
          "metadata": {},
          "execution_count": 95
        }
      ]
    },
    {
      "cell_type": "code",
      "source": [],
      "metadata": {
        "id": "Ln4a8Purx39U"
      },
      "execution_count": null,
      "outputs": []
    },
    {
      "cell_type": "markdown",
      "source": [
        "1. mirar las fechas y su relacion con las etiquetas\n"
      ],
      "metadata": {
        "id": "OFcEENnaelD8"
      }
    }
  ]
}